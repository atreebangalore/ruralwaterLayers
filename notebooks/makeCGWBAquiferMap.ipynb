{
 "cells": [
  {
   "cell_type": "markdown",
   "id": "723ab99b",
   "metadata": {},
   "source": [
    "# imports"
   ]
  },
  {
   "cell_type": "code",
   "execution_count": 2,
   "id": "43b88480",
   "metadata": {},
   "outputs": [],
   "source": [
    "import os,sys\n",
    "from pathlib import Path\n",
    "import re\n",
    "\n",
    "import numpy as np\n",
    "import pandas as pd\n",
    "import matplotlib.pyplot as plt\n",
    "import geopandas as gpd"
   ]
  },
  {
   "cell_type": "code",
   "execution_count": 37,
   "id": "ce34d6c1",
   "metadata": {
    "tags": []
   },
   "outputs": [],
   "source": [
    "# paths\n",
    "root = Path.home()\n",
    "config = root.joinpath(\"Code\",\"atree\",\"config\")\n",
    "sys.path += [str(root),str(config)]\n",
    "# opPath = root.joinpath(\"Code\",\"atree\",\"outputs\",\"groundwater\",\"levels\",\"preprocessed\")\n",
    "# print(\"data saved in :\",opPath)\n",
    "\n",
    "filePath = root.joinpath(\"Data\",\"groundwater\",\"aquifers\",\"india_principal_aquifers.shp\")\n",
    "opPath = root.joinpath(\"Data\",\"groundwater\",\"aquifers\",\"india_principal_aquifers_sy_cgwb.shp\")\n",
    "aqCodesPath = root.joinpath(\"Data\",\"groundwater\",\"aquifers\",\"india_principal_aquifers.csv\")"
   ]
  },
  {
   "cell_type": "markdown",
   "id": "7ae2ee67",
   "metadata": {},
   "source": [
    "# read in data"
   ]
  },
  {
   "cell_type": "code",
   "execution_count": 12,
   "id": "cfc5ef4d",
   "metadata": {},
   "outputs": [
    {
     "data": {
      "text/html": [
       "<div>\n",
       "<style scoped>\n",
       "    .dataframe tbody tr th:only-of-type {\n",
       "        vertical-align: middle;\n",
       "    }\n",
       "\n",
       "    .dataframe tbody tr th {\n",
       "        vertical-align: top;\n",
       "    }\n",
       "\n",
       "    .dataframe thead th {\n",
       "        text-align: right;\n",
       "    }\n",
       "</style>\n",
       "<table border=\"1\" class=\"dataframe\">\n",
       "  <thead>\n",
       "    <tr style=\"text-align: right;\">\n",
       "      <th></th>\n",
       "      <th>aquifer</th>\n",
       "      <th>newcode43</th>\n",
       "      <th>aquifer0</th>\n",
       "      <th>geometry</th>\n",
       "    </tr>\n",
       "  </thead>\n",
       "  <tbody>\n",
       "    <tr>\n",
       "      <th>0</th>\n",
       "      <td>Basalt</td>\n",
       "      <td>BS01</td>\n",
       "      <td>Basic Rocks (Basalt)</td>\n",
       "      <td>MULTIPOLYGON (((998764.318 1694946.315, 998043...</td>\n",
       "    </tr>\n",
       "    <tr>\n",
       "      <th>1</th>\n",
       "      <td>Gneiss</td>\n",
       "      <td>GN01</td>\n",
       "      <td>Undifferentiated metasedimentaries/ Undifferen...</td>\n",
       "      <td>MULTIPOLYGON (((779646.951 1756167.620, 781182...</td>\n",
       "    </tr>\n",
       "    <tr>\n",
       "      <th>2</th>\n",
       "      <td>Gneiss</td>\n",
       "      <td>GN03</td>\n",
       "      <td>Migmatitic Gneiss</td>\n",
       "      <td>POLYGON ((1360161.311 2083353.975, 1359817.469...</td>\n",
       "    </tr>\n",
       "    <tr>\n",
       "      <th>3</th>\n",
       "      <td>Quartzite</td>\n",
       "      <td>QZ01</td>\n",
       "      <td>Quartzite</td>\n",
       "      <td>MULTIPOLYGON (((973097.489 1731405.847, 973186...</td>\n",
       "    </tr>\n",
       "    <tr>\n",
       "      <th>4</th>\n",
       "      <td>Quartzite</td>\n",
       "      <td>QZ02</td>\n",
       "      <td>Quartzite</td>\n",
       "      <td>MULTIPOLYGON (((1394403.104 2062358.522, 13948...</td>\n",
       "    </tr>\n",
       "  </tbody>\n",
       "</table>\n",
       "</div>"
      ],
      "text/plain": [
       "     aquifer newcode43                                           aquifer0  \\\n",
       "0     Basalt      BS01                               Basic Rocks (Basalt)   \n",
       "1     Gneiss      GN01  Undifferentiated metasedimentaries/ Undifferen...   \n",
       "2     Gneiss      GN03                                  Migmatitic Gneiss   \n",
       "3  Quartzite      QZ01                                          Quartzite   \n",
       "4  Quartzite      QZ02                                          Quartzite   \n",
       "\n",
       "                                            geometry  \n",
       "0  MULTIPOLYGON (((998764.318 1694946.315, 998043...  \n",
       "1  MULTIPOLYGON (((779646.951 1756167.620, 781182...  \n",
       "2  POLYGON ((1360161.311 2083353.975, 1359817.469...  \n",
       "3  MULTIPOLYGON (((973097.489 1731405.847, 973186...  \n",
       "4  MULTIPOLYGON (((1394403.104 2062358.522, 13948...  "
      ]
     },
     "execution_count": 12,
     "metadata": {},
     "output_type": "execute_result"
    }
   ],
   "source": [
    "gdf = gpd.read_file(filePath,driver='shapefile')\n",
    "keepcols = [\"aquifer\",\"newcode43\",\"aquifer0\",\"geometry\"]\n",
    "gdf_light = gdf.loc[:,keepcols]\n",
    "\n",
    "gdf_light.head()"
   ]
  },
  {
   "cell_type": "code",
   "execution_count": 10,
   "id": "06b0fc69",
   "metadata": {},
   "outputs": [
    {
     "data": {
      "text/html": [
       "<div>\n",
       "<style scoped>\n",
       "    .dataframe tbody tr th:only-of-type {\n",
       "        vertical-align: middle;\n",
       "    }\n",
       "\n",
       "    .dataframe tbody tr th {\n",
       "        vertical-align: top;\n",
       "    }\n",
       "\n",
       "    .dataframe thead th {\n",
       "        text-align: right;\n",
       "    }\n",
       "</style>\n",
       "<table border=\"1\" class=\"dataframe\">\n",
       "  <thead>\n",
       "    <tr style=\"text-align: right;\">\n",
       "      <th></th>\n",
       "      <th>newcode43</th>\n",
       "      <th>aquifer0</th>\n",
       "      <th>min</th>\n",
       "      <th>max</th>\n",
       "      <th>unique</th>\n",
       "    </tr>\n",
       "  </thead>\n",
       "  <tbody>\n",
       "    <tr>\n",
       "      <th>0</th>\n",
       "      <td>AL01</td>\n",
       "      <td>Younger Alluvium (Clay/Silt/Sand/ Calcareous c...</td>\n",
       "      <td>8</td>\n",
       "      <td>12</td>\n",
       "      <td>yes</td>\n",
       "    </tr>\n",
       "    <tr>\n",
       "      <th>1</th>\n",
       "      <td>AL02</td>\n",
       "      <td>Pebble / Gravel/ Bazada/ Kandi</td>\n",
       "      <td>12</td>\n",
       "      <td>20</td>\n",
       "      <td>yes</td>\n",
       "    </tr>\n",
       "    <tr>\n",
       "      <th>2</th>\n",
       "      <td>AL03</td>\n",
       "      <td>Older Alluvium (Silt/Sand/Gravel/Lithomargic c...</td>\n",
       "      <td>4</td>\n",
       "      <td>8</td>\n",
       "      <td>yes</td>\n",
       "    </tr>\n",
       "    <tr>\n",
       "      <th>3</th>\n",
       "      <td>AL04</td>\n",
       "      <td>Aeolian Alluvium (Silt/ Sand)</td>\n",
       "      <td>12</td>\n",
       "      <td>20</td>\n",
       "      <td>yes</td>\n",
       "    </tr>\n",
       "    <tr>\n",
       "      <th>4</th>\n",
       "      <td>AL05</td>\n",
       "      <td>Coastal Alluvium (Sand/Silt/Clay)</td>\n",
       "      <td>8</td>\n",
       "      <td>12</td>\n",
       "      <td>yes</td>\n",
       "    </tr>\n",
       "  </tbody>\n",
       "</table>\n",
       "</div>"
      ],
      "text/plain": [
       "  newcode43                                           aquifer0  min  max  \\\n",
       "0      AL01  Younger Alluvium (Clay/Silt/Sand/ Calcareous c...    8   12   \n",
       "1      AL02                     Pebble / Gravel/ Bazada/ Kandi   12   20   \n",
       "2      AL03  Older Alluvium (Silt/Sand/Gravel/Lithomargic c...    4    8   \n",
       "3      AL04                      Aeolian Alluvium (Silt/ Sand)   12   20   \n",
       "4      AL05                  Coastal Alluvium (Sand/Silt/Clay)    8   12   \n",
       "\n",
       "  unique  \n",
       "0    yes  \n",
       "1    yes  \n",
       "2    yes  \n",
       "3    yes  \n",
       "4    yes  "
      ]
     },
     "execution_count": 10,
     "metadata": {},
     "output_type": "execute_result"
    }
   ],
   "source": [
    "gdf_aqc = pd.read_csv(aqCodesPath)\n",
    "gdf_aqc.head()"
   ]
  },
  {
   "cell_type": "code",
   "execution_count": 34,
   "id": "392aa60c",
   "metadata": {},
   "outputs": [],
   "source": [
    "cgwb = gdf_light.merge(gdf_aqc,on=['newcode43','aquifer0'])"
   ]
  },
  {
   "cell_type": "code",
   "execution_count": 35,
   "id": "44caf135",
   "metadata": {},
   "outputs": [],
   "source": [
    "cgwb[['sy_mean']] = cgwb[['min','max']].mean(axis=1)"
   ]
  },
  {
   "cell_type": "code",
   "execution_count": 36,
   "id": "c6f8c856",
   "metadata": {},
   "outputs": [
    {
     "data": {
      "text/plain": [
       "<AxesSubplot:>"
      ]
     },
     "execution_count": 36,
     "metadata": {},
     "output_type": "execute_result"
    },
    {
     "data": {
      "image/png": "[encoded data removed]",
      "text/plain": [
       "<Figure size 432x288 with 1 Axes>"
      ]
     },
     "metadata": {
      "needs_background": "light"
     },
     "output_type": "display_data"
    }
   ],
   "source": [
    "cgwb[\"sy_mean\"].value_counts().sort_index().plot(kind='bar')"
   ]
  },
  {
   "cell_type": "code",
   "execution_count": 38,
   "id": "124dac85",
   "metadata": {},
   "outputs": [],
   "source": [
    "cgwb.to_file(opPath)"
   ]
  },
  {
   "cell_type": "code",
   "execution_count": null,
   "id": "8a7db60a",
   "metadata": {},
   "outputs": [],
   "source": []
  }
 ],
 "metadata": {
  "kernelspec": {
   "display_name": "Python 3",
   "language": "python",
   "name": "python3"
  },
  "language_info": {
   "codemirror_mode": {
    "name": "ipython",
    "version": 3
   },
   "file_extension": ".py",
   "mimetype": "text/x-python",
   "name": "python",
   "nbconvert_exporter": "python",
   "pygments_lexer": "ipython3",
   "version": "3.7.10"
  }
 },
 "nbformat": 4,
 "nbformat_minor": 5
}
