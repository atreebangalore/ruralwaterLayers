{
 "cells": [
  {
   "cell_type": "markdown",
   "id": "61458d92",
   "metadata": {},
   "source": [
    "# IMPORTS"
   ]
  },
  {
   "cell_type": "code",
   "execution_count": 1,
   "id": "4d834ed8",
   "metadata": {},
   "outputs": [],
   "source": [
    "import os\n",
    "import sys\n",
    "import datetime\n",
    "from pathlib import Path\n",
    "import re\n",
    "from functools import partial\n",
    "\n",
    "import numpy as np\n",
    "import pandas as pd\n",
    "import matplotlib.pyplot as plt\n",
    "import geopandas as gpd\n",
    "from shapely.geometry import Point, LineString, Polygon\n",
    "import geopy\n",
    "import rasterio\n",
    "import xlrd\n",
    "import importlib\n",
    "import gdal\n",
    "import ogr\n",
    "from geocube.api.core import make_geocube\n",
    "from geocube.rasterize import rasterize_points_griddata, rasterize_points_radial\n",
    "import ee\n",
    "\n",
    "import json\n",
    "import geojson"
   ]
  },
  {
   "cell_type": "code",
   "execution_count": 2,
   "id": "6f95fbbd",
   "metadata": {},
   "outputs": [],
   "source": [
    "ee.Initialize()"
   ]
  },
  {
   "cell_type": "code",
   "execution_count": 3,
   "id": "03879c1e",
   "metadata": {},
   "outputs": [],
   "source": [
    "rootFol = os.path.dirname(os.getcwd())\n",
    "dataFol = os.path.join(rootFol,\"data\")\n",
    "opFol = os.path.join(rootFol,\"outputs\",\"final\")\n",
    "libFol = os.path.join(rootFol,\"lib\")\n",
    "sys.path.append(libFol)\n",
    "import gw_utils as gwmod"
   ]
  },
  {
   "cell_type": "code",
   "execution_count": 22,
   "id": "ca4e4ea5",
   "metadata": {},
   "outputs": [
    {
     "data": {
      "text/plain": [
       "<module 'gw_utils' from 'C:\\\\Users\\\\Craig D\\\\Code\\\\atree\\\\lib\\\\gw_utils.py'>"
      ]
     },
     "execution_count": 22,
     "metadata": {},
     "output_type": "execute_result"
    }
   ],
   "source": [
    "importlib.reload(gw_utils)"
   ]
  },
  {
   "cell_type": "markdown",
   "id": "7b87db3c",
   "metadata": {},
   "source": [
    "# Tejasvi CGWB layer"
   ]
  },
  {
   "cell_type": "markdown",
   "id": "e65c85a0",
   "metadata": {},
   "source": [
    "## Explore"
   ]
  },
  {
   "cell_type": "code",
   "execution_count": 4,
   "id": "ddd95d84",
   "metadata": {},
   "outputs": [],
   "source": [
    "# path = os.path.join(rootFol,\"data\",\"groundwater\",\"cgwb_stationwise_historical\",\"CGWB_data_wide.csv\")\n",
    "path = os.path.join(opFol,\"csv\",\"KA_processed_wDiff.csv\")\n",
    "metacols = [\"SNO\",\"STATE\",\"DISTRICT\",\"SITE_TYPE\",\"WLCODE\",\"LON\",\"LAT\"]"
   ]
  },
  {
   "cell_type": "code",
   "execution_count": 7,
   "id": "27fd2d01",
   "metadata": {},
   "outputs": [
    {
     "data": {
      "text/html": [
       "<div>\n",
       "<style scoped>\n",
       "    .dataframe tbody tr th:only-of-type {\n",
       "        vertical-align: middle;\n",
       "    }\n",
       "\n",
       "    .dataframe tbody tr th {\n",
       "        vertical-align: top;\n",
       "    }\n",
       "\n",
       "    .dataframe thead th {\n",
       "        text-align: right;\n",
       "    }\n",
       "</style>\n",
       "<table border=\"1\" class=\"dataframe\">\n",
       "  <thead>\n",
       "    <tr style=\"text-align: right;\">\n",
       "      <th></th>\n",
       "      <th>SNO</th>\n",
       "      <th>STATE</th>\n",
       "      <th>DISTRICT</th>\n",
       "      <th>SITE_TYPE</th>\n",
       "      <th>WLCODE</th>\n",
       "      <th>LON</th>\n",
       "      <th>LAT</th>\n",
       "      <th>geometry</th>\n",
       "      <th>rech-96</th>\n",
       "      <th>rech-97</th>\n",
       "      <th>...</th>\n",
       "      <th>disc-06</th>\n",
       "      <th>disc-07</th>\n",
       "      <th>disc-08</th>\n",
       "      <th>disc-09</th>\n",
       "      <th>disc-10</th>\n",
       "      <th>disc-11</th>\n",
       "      <th>disc-12</th>\n",
       "      <th>disc-13</th>\n",
       "      <th>disc-14</th>\n",
       "      <th>disc-15</th>\n",
       "    </tr>\n",
       "  </thead>\n",
       "  <tbody>\n",
       "    <tr>\n",
       "      <th>0</th>\n",
       "      <td>1816</td>\n",
       "      <td>KA</td>\n",
       "      <td>Bagalkot</td>\n",
       "      <td>Bore Well</td>\n",
       "      <td>W21196</td>\n",
       "      <td>75.368056</td>\n",
       "      <td>16.162500</td>\n",
       "      <td>POINT (75.36806 16.16250)</td>\n",
       "      <td>NaN</td>\n",
       "      <td>NaN</td>\n",
       "      <td>...</td>\n",
       "      <td>NaN</td>\n",
       "      <td>0.09</td>\n",
       "      <td>NaN</td>\n",
       "      <td>1.25</td>\n",
       "      <td>2.76</td>\n",
       "      <td>-0.87</td>\n",
       "      <td>1.11</td>\n",
       "      <td>-12.78</td>\n",
       "      <td>0.77</td>\n",
       "      <td>2.70</td>\n",
       "    </tr>\n",
       "    <tr>\n",
       "      <th>1</th>\n",
       "      <td>1817</td>\n",
       "      <td>KA</td>\n",
       "      <td>Bagalkot</td>\n",
       "      <td>Dug Well</td>\n",
       "      <td>W05482</td>\n",
       "      <td>75.787500</td>\n",
       "      <td>16.050000</td>\n",
       "      <td>POINT (75.78750 16.05000)</td>\n",
       "      <td>1.38</td>\n",
       "      <td>0.57</td>\n",
       "      <td>...</td>\n",
       "      <td>2.30</td>\n",
       "      <td>4.33</td>\n",
       "      <td>5.11</td>\n",
       "      <td>0.30</td>\n",
       "      <td>0.30</td>\n",
       "      <td>1.03</td>\n",
       "      <td>0.16</td>\n",
       "      <td>2.32</td>\n",
       "      <td>0.20</td>\n",
       "      <td>0.76</td>\n",
       "    </tr>\n",
       "    <tr>\n",
       "      <th>2</th>\n",
       "      <td>1818</td>\n",
       "      <td>KA</td>\n",
       "      <td>Bagalkot</td>\n",
       "      <td>Dug Well</td>\n",
       "      <td>W05224</td>\n",
       "      <td>75.677778</td>\n",
       "      <td>15.916667</td>\n",
       "      <td>POINT (75.67778 15.91667)</td>\n",
       "      <td>-0.26</td>\n",
       "      <td>6.75</td>\n",
       "      <td>...</td>\n",
       "      <td>5.37</td>\n",
       "      <td>0.07</td>\n",
       "      <td>0.40</td>\n",
       "      <td>0.10</td>\n",
       "      <td>0.25</td>\n",
       "      <td>1.83</td>\n",
       "      <td>2.15</td>\n",
       "      <td>1.67</td>\n",
       "      <td>2.65</td>\n",
       "      <td>7.00</td>\n",
       "    </tr>\n",
       "    <tr>\n",
       "      <th>3</th>\n",
       "      <td>1819</td>\n",
       "      <td>KA</td>\n",
       "      <td>Bagalkot</td>\n",
       "      <td>Bore Well</td>\n",
       "      <td>W05694</td>\n",
       "      <td>75.510278</td>\n",
       "      <td>15.916111</td>\n",
       "      <td>POINT (75.51028 15.91611)</td>\n",
       "      <td>NaN</td>\n",
       "      <td>NaN</td>\n",
       "      <td>...</td>\n",
       "      <td>1.64</td>\n",
       "      <td>-2.58</td>\n",
       "      <td>0.30</td>\n",
       "      <td>2.00</td>\n",
       "      <td>0.18</td>\n",
       "      <td>1.80</td>\n",
       "      <td>NaN</td>\n",
       "      <td>7.09</td>\n",
       "      <td>5.28</td>\n",
       "      <td>NaN</td>\n",
       "    </tr>\n",
       "    <tr>\n",
       "      <th>4</th>\n",
       "      <td>1820</td>\n",
       "      <td>KA</td>\n",
       "      <td>Bagalkot</td>\n",
       "      <td>Dug Well</td>\n",
       "      <td>W05695</td>\n",
       "      <td>75.505556</td>\n",
       "      <td>15.900000</td>\n",
       "      <td>POINT (75.50556 15.90000)</td>\n",
       "      <td>3.44</td>\n",
       "      <td>1.15</td>\n",
       "      <td>...</td>\n",
       "      <td>0.00</td>\n",
       "      <td>-3.36</td>\n",
       "      <td>-0.65</td>\n",
       "      <td>2.40</td>\n",
       "      <td>-0.42</td>\n",
       "      <td>1.61</td>\n",
       "      <td>0.00</td>\n",
       "      <td>0.00</td>\n",
       "      <td>0.00</td>\n",
       "      <td>0.00</td>\n",
       "    </tr>\n",
       "  </tbody>\n",
       "</table>\n",
       "<p>5 rows × 49 columns</p>\n",
       "</div>"
      ],
      "text/plain": [
       "    SNO STATE  DISTRICT  SITE_TYPE  WLCODE        LON        LAT  \\\n",
       "0  1816    KA  Bagalkot  Bore Well  W21196  75.368056  16.162500   \n",
       "1  1817    KA  Bagalkot   Dug Well  W05482  75.787500  16.050000   \n",
       "2  1818    KA  Bagalkot   Dug Well  W05224  75.677778  15.916667   \n",
       "3  1819    KA  Bagalkot  Bore Well  W05694  75.510278  15.916111   \n",
       "4  1820    KA  Bagalkot   Dug Well  W05695  75.505556  15.900000   \n",
       "\n",
       "                    geometry  rech-96  rech-97  ...  disc-06  disc-07  \\\n",
       "0  POINT (75.36806 16.16250)      NaN      NaN  ...      NaN     0.09   \n",
       "1  POINT (75.78750 16.05000)     1.38     0.57  ...     2.30     4.33   \n",
       "2  POINT (75.67778 15.91667)    -0.26     6.75  ...     5.37     0.07   \n",
       "3  POINT (75.51028 15.91611)      NaN      NaN  ...     1.64    -2.58   \n",
       "4  POINT (75.50556 15.90000)     3.44     1.15  ...     0.00    -3.36   \n",
       "\n",
       "   disc-08  disc-09  disc-10  disc-11  disc-12  disc-13  disc-14  disc-15  \n",
       "0      NaN     1.25     2.76    -0.87     1.11   -12.78     0.77     2.70  \n",
       "1     5.11     0.30     0.30     1.03     0.16     2.32     0.20     0.76  \n",
       "2     0.40     0.10     0.25     1.83     2.15     1.67     2.65     7.00  \n",
       "3     0.30     2.00     0.18     1.80      NaN     7.09     5.28      NaN  \n",
       "4    -0.65     2.40    -0.42     1.61     0.00     0.00     0.00     0.00  \n",
       "\n",
       "[5 rows x 49 columns]"
      ]
     },
     "execution_count": 7,
     "metadata": {},
     "output_type": "execute_result"
    }
   ],
   "source": [
    "gwObj = gwmod.WellDataObj(path,metacols)\n",
    "gwObj.gdf.head()"
   ]
  },
  {
   "cell_type": "markdown",
   "id": "b8006021",
   "metadata": {},
   "source": [
    "## Save to raster"
   ]
  },
  {
   "cell_type": "code",
   "execution_count": 8,
   "id": "75f45ae4",
   "metadata": {},
   "outputs": [
    {
     "name": "stdout",
     "output_type": "stream",
     "text": [
      "['rech-96', 'rech-97', 'rech-98', 'rech-99', 'rech-00', 'rech-01', 'rech-02', 'rech-03', 'rech-04', 'rech-05', 'rech-06', 'rech-07', 'rech-08', 'rech-09', 'rech-10', 'rech-11', 'rech-12', 'rech-13', 'rech-14', 'rech-15', 'rech-16', 'disc-96', 'disc-97', 'disc-98', 'disc-99', 'disc-00', 'disc-01', 'disc-02', 'disc-03', 'disc-04', 'disc-05', 'disc-06', 'disc-07', 'disc-08', 'disc-09', 'disc-10', 'disc-11', 'disc-12', 'disc-13', 'disc-14', 'disc-15']\n"
     ]
    }
   ],
   "source": [
    "print(gwObj.dataCols)"
   ]
  },
  {
   "cell_type": "code",
   "execution_count": 9,
   "id": "dcd4048c",
   "metadata": {},
   "outputs": [],
   "source": [
    "import geojson\n",
    "with open(os.path.join(opFol,\"shapefiles\",\"KA_boundary.geojson\")) as f:\n",
    "    geom = geojson.load(f)\n",
    "    fea = geom[\"features\"][0]['geometry']\n",
    "    state_boundary = json.dumps(fea)"
   ]
  },
  {
   "cell_type": "code",
   "execution_count": null,
   "id": "f09ebf67",
   "metadata": {},
   "outputs": [],
   "source": [
    "col = gwObj.dataCols[0]\n",
    "# first run of this, with entire gdf gave memory error, shows steps involved in rasterizing layer\n",
    "cube = make_geocube(vector_data=gwObj.gdf.loc[:,[col,\"geometry\"]], #.dropna(how='any')\n",
    "                    resolution=(-0.001, 0.001),\n",
    "                   interpolate_na_method='linear',\n",
    "                   geom=state_boundary,\n",
    "                   rasterize_function=partial(rasterize_points_griddata, method=\"linear\"))"
   ]
  },
  {
   "cell_type": "code",
   "execution_count": 22,
   "id": "4718c991",
   "metadata": {},
   "outputs": [
    {
     "name": "stdout",
     "output_type": "stream",
     "text": [
      "C:\\Users\\Craig D\\Code\\atree\\outputs\\final\\tif\\KA_consolidated_preprocessed_rech-96.tif\n"
     ]
    }
   ],
   "source": [
    "tifPath = os.path.join(opFol,\"tif\",\"KA_consolidated_preprocessed_\" + col + \".tif\")\n",
    "print(tifPath)\n",
    "cube[col].rio.to_raster(tifPath)"
   ]
  },
  {
   "cell_type": "markdown",
   "id": "10a962f8",
   "metadata": {},
   "source": [
    "# CGWB Dataset"
   ]
  },
  {
   "cell_type": "markdown",
   "id": "3b99197e",
   "metadata": {},
   "source": [
    "## Preprocess"
   ]
  },
  {
   "cell_type": "code",
   "execution_count": 332,
   "id": "13b9e775",
   "metadata": {},
   "outputs": [
    {
     "data": {
      "text/plain": [
       "<module 'utils' from 'C:\\\\Users\\\\Craig D\\\\Code\\\\atree\\\\models\\\\utils.py'>"
      ]
     },
     "execution_count": 332,
     "metadata": {},
     "output_type": "execute_result"
    }
   ],
   "source": [
    "importlib.reload(gw_utils)"
   ]
  },
  {
   "cell_type": "code",
   "execution_count": 20,
   "id": "4ce92652",
   "metadata": {},
   "outputs": [],
   "source": []
  },
  {
   "cell_type": "markdown",
   "id": "46950b46",
   "metadata": {},
   "source": [
    "<font color='blue'>make Well Data Object</font>\n",
    "- this makes a df and gdf"
   ]
  },
  {
   "cell_type": "code",
   "execution_count": 21,
   "id": "9cce8115",
   "metadata": {},
   "outputs": [
    {
     "name": "stdout",
     "output_type": "stream",
     "text": [
      "(2529, 13)\n"
     ]
    },
    {
     "data": {
      "text/html": [
       "<div>\n",
       "<style scoped>\n",
       "    .dataframe tbody tr th:only-of-type {\n",
       "        vertical-align: middle;\n",
       "    }\n",
       "\n",
       "    .dataframe tbody tr th {\n",
       "        vertical-align: top;\n",
       "    }\n",
       "\n",
       "    .dataframe thead th {\n",
       "        text-align: right;\n",
       "    }\n",
       "</style>\n",
       "<table border=\"1\" class=\"dataframe\">\n",
       "  <thead>\n",
       "    <tr style=\"text-align: right;\">\n",
       "      <th></th>\n",
       "      <th>STATE</th>\n",
       "      <th>DISTRICT</th>\n",
       "      <th>STATION</th>\n",
       "      <th>Latitude</th>\n",
       "      <th>Longtitude</th>\n",
       "      <th>Station Type</th>\n",
       "      <th>May 2020</th>\n",
       "      <th>Jun 2020</th>\n",
       "      <th>Jul 2020</th>\n",
       "      <th>Aug 2020</th>\n",
       "      <th>Sep 2020</th>\n",
       "      <th>Oct 2020</th>\n",
       "      <th>geometry</th>\n",
       "    </tr>\n",
       "  </thead>\n",
       "  <tbody>\n",
       "    <tr>\n",
       "      <th>0</th>\n",
       "      <td>KARNATAKA</td>\n",
       "      <td>DHARWAD</td>\n",
       "      <td>Rayapura A</td>\n",
       "      <td>15.408333</td>\n",
       "      <td>75.061667</td>\n",
       "      <td>Manual</td>\n",
       "      <td>-</td>\n",
       "      <td>-</td>\n",
       "      <td>-</td>\n",
       "      <td>-</td>\n",
       "      <td>-</td>\n",
       "      <td>-</td>\n",
       "      <td>POINT (75.06167 15.40833)</td>\n",
       "    </tr>\n",
       "    <tr>\n",
       "      <th>1</th>\n",
       "      <td>KARNATAKA</td>\n",
       "      <td>MANDYA</td>\n",
       "      <td>Haralahalli</td>\n",
       "      <td>12.483333</td>\n",
       "      <td>76.683333</td>\n",
       "      <td>Manual</td>\n",
       "      <td>-</td>\n",
       "      <td>-</td>\n",
       "      <td>-</td>\n",
       "      <td>-</td>\n",
       "      <td>-</td>\n",
       "      <td>-</td>\n",
       "      <td>POINT (76.68333 12.48333)</td>\n",
       "    </tr>\n",
       "  </tbody>\n",
       "</table>\n",
       "</div>"
      ],
      "text/plain": [
       "       STATE DISTRICT      STATION   Latitude  Longtitude Station Type  \\\n",
       "0  KARNATAKA  DHARWAD   Rayapura A  15.408333   75.061667       Manual   \n",
       "1  KARNATAKA   MANDYA  Haralahalli  12.483333   76.683333       Manual   \n",
       "\n",
       "  May 2020 Jun 2020 Jul 2020 Aug 2020 Sep 2020 Oct 2020  \\\n",
       "0        -        -        -        -        -        -   \n",
       "1        -        -        -        -        -        -   \n",
       "\n",
       "                    geometry  \n",
       "0  POINT (75.06167 15.40833)  \n",
       "1  POINT (76.68333 12.48333)  "
      ]
     },
     "execution_count": 21,
     "metadata": {},
     "output_type": "execute_result"
    }
   ],
   "source": [
    "cgwbObj = gw_utils.WellDataObj(path,metacols)  # 'KA'\n",
    "print(cgwbObj.df.shape)\n",
    "cgwbObj.gdf.head(2)"
   ]
  },
  {
   "cell_type": "markdown",
   "id": "4c26478d",
   "metadata": {},
   "source": [
    "<font color='blue'>Select only single state</font>"
   ]
  },
  {
   "cell_type": "code",
   "execution_count": 22,
   "id": "7e4df286",
   "metadata": {},
   "outputs": [
    {
     "name": "stdout",
     "output_type": "stream",
     "text": [
      "['KARNATAKA']\n"
     ]
    }
   ],
   "source": [
    "# List of states in dataset\n",
    "print(cgwbObj.df.STATE.unique().tolist())"
   ]
  },
  {
   "cell_type": "code",
   "execution_count": 23,
   "id": "855a6dd5",
   "metadata": {},
   "outputs": [
    {
     "data": {
      "text/plain": [
       "(2529, 13)"
      ]
     },
     "execution_count": 23,
     "metadata": {},
     "output_type": "execute_result"
    }
   ],
   "source": [
    "cgwbdf = cgwbObj.subset_gdf('KARNATAKA')\n",
    "cgwbdf.shape"
   ]
  },
  {
   "cell_type": "markdown",
   "id": "a03b9508",
   "metadata": {},
   "source": [
    "<font color='blue'>Remove Duplicates (entire row)</font>"
   ]
  },
  {
   "cell_type": "code",
   "execution_count": 24,
   "id": "4c779f17",
   "metadata": {
    "tags": []
   },
   "outputs": [
    {
     "name": "stdout",
     "output_type": "stream",
     "text": [
      "number of duplicates found: 0\n"
     ]
    }
   ],
   "source": [
    "cgwbdfU = cgwbObj.remove_dups()\n",
    "print(\"number of duplicates found:\",cgwbObj.num_dups)"
   ]
  },
  {
   "cell_type": "markdown",
   "id": "1e0d61b9",
   "metadata": {},
   "source": [
    "<font color='blue'>Remove Null Data Rows</font>"
   ]
  },
  {
   "cell_type": "code",
   "execution_count": 25,
   "id": "572c57c4",
   "metadata": {},
   "outputs": [
    {
     "name": "stdout",
     "output_type": "stream",
     "text": [
      "number of nulls found: 0\n"
     ]
    }
   ],
   "source": [
    "cgwbdfNN = cgwbObj.remove_nulls()\n",
    "print(\"number of nulls found:\",cgwbObj.num_nulls)"
   ]
  },
  {
   "cell_type": "markdown",
   "id": "aab2f184",
   "metadata": {},
   "source": [
    "<font color='blue'> Drop Duplicate geometries</font>\n",
    "- perhaps instead of dropping geom, do a fuzzy correction?"
   ]
  },
  {
   "cell_type": "code",
   "execution_count": 26,
   "id": "8b727f6a",
   "metadata": {},
   "outputs": [
    {
     "name": "stdout",
     "output_type": "stream",
     "text": [
      "number of duplicate geometries found: 147\n"
     ]
    },
    {
     "data": {
      "text/html": [
       "<div>\n",
       "<style scoped>\n",
       "    .dataframe tbody tr th:only-of-type {\n",
       "        vertical-align: middle;\n",
       "    }\n",
       "\n",
       "    .dataframe tbody tr th {\n",
       "        vertical-align: top;\n",
       "    }\n",
       "\n",
       "    .dataframe thead th {\n",
       "        text-align: right;\n",
       "    }\n",
       "</style>\n",
       "<table border=\"1\" class=\"dataframe\">\n",
       "  <thead>\n",
       "    <tr style=\"text-align: right;\">\n",
       "      <th></th>\n",
       "      <th>Latitude</th>\n",
       "      <th>Longtitude</th>\n",
       "      <th>May 2020</th>\n",
       "      <th>Jun 2020</th>\n",
       "      <th>Jul 2020</th>\n",
       "      <th>Aug 2020</th>\n",
       "      <th>Sep 2020</th>\n",
       "      <th>Oct 2020</th>\n",
       "      <th>geometry</th>\n",
       "    </tr>\n",
       "  </thead>\n",
       "  <tbody>\n",
       "    <tr>\n",
       "      <th>0</th>\n",
       "      <td>15.408333</td>\n",
       "      <td>75.061667</td>\n",
       "      <td>-</td>\n",
       "      <td>-</td>\n",
       "      <td>-</td>\n",
       "      <td>-</td>\n",
       "      <td>-</td>\n",
       "      <td>-</td>\n",
       "      <td>POINT (75.06167 15.40833)</td>\n",
       "    </tr>\n",
       "    <tr>\n",
       "      <th>585</th>\n",
       "      <td>15.408333</td>\n",
       "      <td>75.061667</td>\n",
       "      <td>-</td>\n",
       "      <td>-</td>\n",
       "      <td>-</td>\n",
       "      <td>-</td>\n",
       "      <td>-</td>\n",
       "      <td>-</td>\n",
       "      <td>POINT (75.06167 15.40833)</td>\n",
       "    </tr>\n",
       "    <tr>\n",
       "      <th>1446</th>\n",
       "      <td>15.408333</td>\n",
       "      <td>75.061667</td>\n",
       "      <td>-</td>\n",
       "      <td>-</td>\n",
       "      <td>-</td>\n",
       "      <td>-</td>\n",
       "      <td>-</td>\n",
       "      <td>-</td>\n",
       "      <td>POINT (75.06167 15.40833)</td>\n",
       "    </tr>\n",
       "  </tbody>\n",
       "</table>\n",
       "</div>"
      ],
      "text/plain": [
       "       Latitude  Longtitude May 2020 Jun 2020 Jul 2020 Aug 2020 Sep 2020  \\\n",
       "0     15.408333   75.061667        -        -        -        -        -   \n",
       "585   15.408333   75.061667        -        -        -        -        -   \n",
       "1446  15.408333   75.061667        -        -        -        -        -   \n",
       "\n",
       "     Oct 2020                   geometry  \n",
       "0           -  POINT (75.06167 15.40833)  \n",
       "585         -  POINT (75.06167 15.40833)  \n",
       "1446        -  POINT (75.06167 15.40833)  "
      ]
     },
     "execution_count": 26,
     "metadata": {},
     "output_type": "execute_result"
    }
   ],
   "source": [
    "cgwbgdfUG = cgwbObj.remove_dup_geoms()\n",
    "print(\"number of duplicate geometries found:\",cgwbObj.num_geom_dups)\n",
    "\n",
    "sample = cgwbObj.get_sample_dup_geoms()\n",
    "sample"
   ]
  },
  {
   "cell_type": "markdown",
   "id": "31062dc5",
   "metadata": {},
   "source": [
    "<font color = red>Problem 1: Duplicate Geometries (i.e. same lat, long) with different data on water depths</font>\n",
    "<font color = red><br> - this affects 147 wells of 2529, in Karnataka (CGWB) dataset, 6% of the state dataset</font>"
   ]
  },
  {
   "cell_type": "markdown",
   "id": "560b5c88",
   "metadata": {},
   "source": [
    "<font color='blue'> Buffer points in dataset</font>"
   ]
  },
  {
   "cell_type": "code",
   "execution_count": 27,
   "id": "460bea0a",
   "metadata": {},
   "outputs": [
    {
     "name": "stdout",
     "output_type": "stream",
     "text": [
      "0       POLYGON ((8355831.512 1736304.482, 8355831.488...\n",
      "1       POLYGON ((8536354.619 1400764.880, 8536354.595...\n",
      "2       POLYGON ((8307902.286 1829248.001, 8307902.262...\n",
      "3       POLYGON ((8617061.249 1390315.358, 8617061.225...\n",
      "4       POLYGON ((8365726.578 1456400.244, 8365726.554...\n",
      "                              ...                        \n",
      "2524    POLYGON ((8618916.575 2062306.141, 8618916.551...\n",
      "2525    POLYGON ((8544518.049 1816853.372, 8544518.025...\n",
      "2526    POLYGON ((8429487.907 1490945.521, 8429487.883...\n",
      "2527    POLYGON ((8559948.167 1986175.829, 8559948.143...\n",
      "2528    POLYGON ((8516719.097 1823484.469, 8516719.073...\n",
      "Name: buffer, Length: 2382, dtype: geometry\n"
     ]
    }
   ],
   "source": [
    "cgwbgdf_proj = cgwbObj.buffer_geoms(5)\n",
    "print(cgwbgdf_proj.geometry)"
   ]
  },
  {
   "cell_type": "markdown",
   "id": "2346add2",
   "metadata": {},
   "source": [
    "## Plot dataset"
   ]
  },
  {
   "cell_type": "code",
   "execution_count": 29,
   "id": "d10336c3",
   "metadata": {},
   "outputs": [
    {
     "name": "stdout",
     "output_type": "stream",
     "text": [
      "['May 2020', 'Jun 2020', 'Jul 2020', 'Aug 2020', 'Sep 2020', 'Oct 2020', 'geometry']\n"
     ]
    }
   ],
   "source": [
    "datacols = [elem for elem in list(cgwbgdfUG.columns) if elem not in metacols]\n",
    "# print(\"datacols are of the format 'May-96', 'Aug-96', 'Nov-96', 'Jan-97',..., 'Jan-17'\")\n",
    "print(datacols)"
   ]
  },
  {
   "cell_type": "code",
   "execution_count": 120,
   "id": "a708440a",
   "metadata": {
    "tags": []
   },
   "outputs": [],
   "source": [
    "# cgwbgdfUG.plot(figsize=(15,15),column=datacols[0],vmin=5,vmax=20,legend=True)"
   ]
  },
  {
   "cell_type": "markdown",
   "id": "582ce6d5",
   "metadata": {},
   "source": [
    "## Save to shapefile"
   ]
  },
  {
   "cell_type": "code",
   "execution_count": 30,
   "id": "0bc89061",
   "metadata": {},
   "outputs": [
    {
     "name": "stderr",
     "output_type": "stream",
     "text": [
      "G:\\Users\\Craig\\miniconda3\\envs\\geo_env\\lib\\site-packages\\ipykernel_launcher.py:1: UserWarning: Column names longer than 10 characters will be truncated when saved to ESRI Shapefile.\n",
      "  \"\"\"Entry point for launching an IPython kernel.\n"
     ]
    }
   ],
   "source": [
    "cgwbgdfUG.to_file(os.path.join(dataFol,\"groundwater\",\"all_shapefiles\",\"cgwbgdfUG_KA.shp\"))"
   ]
  },
  {
   "cell_type": "markdown",
   "id": "a1fb92c9",
   "metadata": {},
   "source": [
    "# INDIA-WRIS Shapefile"
   ]
  },
  {
   "cell_type": "markdown",
   "id": "af5e4141",
   "metadata": {},
   "source": [
    "## Preprocess"
   ]
  },
  {
   "cell_type": "code",
   "execution_count": 322,
   "id": "be15c2fa",
   "metadata": {},
   "outputs": [
    {
     "data": {
      "text/plain": [
       "<module 'utils' from 'C:\\\\Users\\\\Craig D\\\\Code\\\\atree\\\\models\\\\utils.py'>"
      ]
     },
     "execution_count": 322,
     "metadata": {},
     "output_type": "execute_result"
    }
   ],
   "source": [
    "importlib.reload(gw_utils)"
   ]
  },
  {
   "cell_type": "code",
   "execution_count": 35,
   "id": "97c68c98",
   "metadata": {},
   "outputs": [],
   "source": [
    "# iwStnFol = os.path.join()\n",
    "path = os.path.join(dataFol,\"groundwater\",\"all_shapefiles\",\"indiawris_gw_station.zip\")\n",
    "zippath = \"zip://\"+path\n",
    "metacols = ['state_name','site_name','agency_nam','latitude','longitude','manual_or_','gwquality']"
   ]
  },
  {
   "cell_type": "markdown",
   "id": "2f79f9f3",
   "metadata": {},
   "source": [
    "<font color='blue'>make Well Data Object</font>\n",
    "- this makes a df and gdf"
   ]
  },
  {
   "cell_type": "code",
   "execution_count": 36,
   "id": "459a2f86",
   "metadata": {},
   "outputs": [
    {
     "name": "stdout",
     "output_type": "stream",
     "text": [
      "(40979, 8)\n"
     ]
    },
    {
     "data": {
      "text/html": [
       "<div>\n",
       "<style scoped>\n",
       "    .dataframe tbody tr th:only-of-type {\n",
       "        vertical-align: middle;\n",
       "    }\n",
       "\n",
       "    .dataframe tbody tr th {\n",
       "        vertical-align: top;\n",
       "    }\n",
       "\n",
       "    .dataframe thead th {\n",
       "        text-align: right;\n",
       "    }\n",
       "</style>\n",
       "<table border=\"1\" class=\"dataframe\">\n",
       "  <thead>\n",
       "    <tr style=\"text-align: right;\">\n",
       "      <th></th>\n",
       "      <th>state_name</th>\n",
       "      <th>site_name</th>\n",
       "      <th>agency_nam</th>\n",
       "      <th>latitude</th>\n",
       "      <th>longitude</th>\n",
       "      <th>manual_or_</th>\n",
       "      <th>gwquality</th>\n",
       "      <th>geometry</th>\n",
       "    </tr>\n",
       "  </thead>\n",
       "  <tbody>\n",
       "    <tr>\n",
       "      <th>0</th>\n",
       "      <td>WEST BENGAL</td>\n",
       "      <td>KHADINAN STACH YARD P.W.D.</td>\n",
       "      <td>DWRID, Govt. of West Bengal</td>\n",
       "      <td>22.472622</td>\n",
       "      <td>87.971709</td>\n",
       "      <td>None</td>\n",
       "      <td>None</td>\n",
       "      <td>POINT (87.97171 22.47262)</td>\n",
       "    </tr>\n",
       "    <tr>\n",
       "      <th>1</th>\n",
       "      <td>WEST BENGAL</td>\n",
       "      <td>Khejurgechia Bhaslageria Primary School</td>\n",
       "      <td>DWRID, Govt. of West Bengal</td>\n",
       "      <td>21.939392</td>\n",
       "      <td>87.685326</td>\n",
       "      <td>None</td>\n",
       "      <td>None</td>\n",
       "      <td>POINT (87.68533 21.93939)</td>\n",
       "    </tr>\n",
       "  </tbody>\n",
       "</table>\n",
       "</div>"
      ],
      "text/plain": [
       "    state_name                                site_name  \\\n",
       "0  WEST BENGAL               KHADINAN STACH YARD P.W.D.   \n",
       "1  WEST BENGAL  Khejurgechia Bhaslageria Primary School   \n",
       "\n",
       "                    agency_nam   latitude  longitude manual_or_ gwquality  \\\n",
       "0  DWRID, Govt. of West Bengal  22.472622  87.971709       None      None   \n",
       "1  DWRID, Govt. of West Bengal  21.939392  87.685326       None      None   \n",
       "\n",
       "                    geometry  \n",
       "0  POINT (87.97171 22.47262)  \n",
       "1  POINT (87.68533 21.93939)  "
      ]
     },
     "execution_count": 36,
     "metadata": {},
     "output_type": "execute_result"
    }
   ],
   "source": [
    "iwObj = gw_utils.WellDataObj(zippath,metacols)\n",
    "print(iwObj.df.shape)\n",
    "iwObj.df.head(2)"
   ]
  },
  {
   "cell_type": "markdown",
   "id": "ca086248",
   "metadata": {},
   "source": [
    "<font color='blue'>Select only single state</font>"
   ]
  },
  {
   "cell_type": "code",
   "execution_count": 37,
   "id": "1eff7ccc",
   "metadata": {},
   "outputs": [
    {
     "name": "stdout",
     "output_type": "stream",
     "text": [
      "['WEST BENGAL', 'BIHAR', None, 'Bihar', 'AP', 'Tamil Nadu', 'Kerala', 'TELANGANA', '-', 'Pondicherry', 'Telangana', 'Andaman & Nicobar', 'Karnataka', 'Jammu & Kashmir', 'Andhra Pradesh', 'Maharashtra', 'Chhattisgarh', 'Madhya Pradesh', 'Goa', 'CHHATTISGARH', 'Uttar Pradesh', 'Odisha', 'West Bengal', 'Jharkhand', 'Dadra & Nagar Haveli', 'Gujarat', 'Daman & Diu', 'Rajasthan', 'Tripura', 'Manipur', 'Assam', 'Meghalaya', 'Nagaland', 'Punjab', 'Arunachal Pradesh', 'Haryana', 'Delhi', 'Uttarakhand', 'Himachal Pradesh', 'Chandigarh']\n"
     ]
    }
   ],
   "source": [
    "# List of states in dataset\n",
    "print(iwObj.df.state_name.unique().tolist())"
   ]
  },
  {
   "cell_type": "code",
   "execution_count": 38,
   "id": "f12cd9b0",
   "metadata": {},
   "outputs": [
    {
     "data": {
      "text/plain": [
       "(2207, 8)"
      ]
     },
     "execution_count": 38,
     "metadata": {},
     "output_type": "execute_result"
    }
   ],
   "source": [
    "iwdf = iwObj.subset_gdf('Karnataka')\n",
    "iwdf.shape"
   ]
  },
  {
   "cell_type": "markdown",
   "id": "a7486cd6",
   "metadata": {},
   "source": [
    "<font color='blue'>Remove Duplicates (entire row)</font>"
   ]
  },
  {
   "cell_type": "code",
   "execution_count": 39,
   "id": "688efc3c",
   "metadata": {
    "tags": []
   },
   "outputs": [
    {
     "name": "stdout",
     "output_type": "stream",
     "text": [
      "number of duplicates found: 0\n"
     ]
    }
   ],
   "source": [
    "iwdfU = iwObj.remove_dups()\n",
    "print(\"number of duplicates found:\",iwObj.num_dups)"
   ]
  },
  {
   "cell_type": "markdown",
   "id": "6da6c670",
   "metadata": {},
   "source": [
    "<font color='blue'>Remove Null Data Rows</font>"
   ]
  },
  {
   "cell_type": "code",
   "execution_count": 40,
   "id": "cdd09d29",
   "metadata": {},
   "outputs": [
    {
     "name": "stdout",
     "output_type": "stream",
     "text": [
      "number of nulls found: 0\n"
     ]
    }
   ],
   "source": [
    "iwdfNN = iwObj.remove_nulls()\n",
    "print(\"number of nulls found:\",iwObj.num_nulls)"
   ]
  },
  {
   "cell_type": "markdown",
   "id": "aa1ecdb2",
   "metadata": {},
   "source": [
    "<font color='blue'> Drop Duplicate geometries</font>\n",
    "- perhaps instead of dropping geom, do a fuzzy correction?"
   ]
  },
  {
   "cell_type": "code",
   "execution_count": 41,
   "id": "3671752b",
   "metadata": {},
   "outputs": [
    {
     "name": "stdout",
     "output_type": "stream",
     "text": [
      "number of duplicate geometries found: 124\n"
     ]
    },
    {
     "data": {
      "text/html": [
       "<div>\n",
       "<style scoped>\n",
       "    .dataframe tbody tr th:only-of-type {\n",
       "        vertical-align: middle;\n",
       "    }\n",
       "\n",
       "    .dataframe tbody tr th {\n",
       "        vertical-align: top;\n",
       "    }\n",
       "\n",
       "    .dataframe thead th {\n",
       "        text-align: right;\n",
       "    }\n",
       "</style>\n",
       "<table border=\"1\" class=\"dataframe\">\n",
       "  <thead>\n",
       "    <tr style=\"text-align: right;\">\n",
       "      <th></th>\n",
       "      <th>latitude</th>\n",
       "      <th>longitude</th>\n",
       "      <th>geometry</th>\n",
       "    </tr>\n",
       "  </thead>\n",
       "  <tbody>\n",
       "    <tr>\n",
       "      <th>8598</th>\n",
       "      <td>13.8125</td>\n",
       "      <td>77.266667</td>\n",
       "      <td>POINT (77.26667 13.81250)</td>\n",
       "    </tr>\n",
       "    <tr>\n",
       "      <th>8600</th>\n",
       "      <td>13.8125</td>\n",
       "      <td>77.266667</td>\n",
       "      <td>POINT (77.26667 13.81250)</td>\n",
       "    </tr>\n",
       "  </tbody>\n",
       "</table>\n",
       "</div>"
      ],
      "text/plain": [
       "      latitude  longitude                   geometry\n",
       "8598   13.8125  77.266667  POINT (77.26667 13.81250)\n",
       "8600   13.8125  77.266667  POINT (77.26667 13.81250)"
      ]
     },
     "execution_count": 41,
     "metadata": {},
     "output_type": "execute_result"
    }
   ],
   "source": [
    "iwgdfUG = iwObj.remove_dup_geoms()\n",
    "print(\"number of duplicate geometries found:\",iwObj.num_geom_dups)\n",
    "\n",
    "sample = iwObj.get_sample_dup_geoms()\n",
    "sample"
   ]
  },
  {
   "cell_type": "markdown",
   "id": "9c4c715d",
   "metadata": {},
   "source": [
    "<font color = red>Problem 1: Duplicate Geometries (i.e. same lat, long) with different data on water depths</font>\n",
    "<font color = red><br> - this affects 124 wells of 2207, in Karnataka (WRIS) dataset, 5.6% of the state dataset</font>"
   ]
  },
  {
   "cell_type": "markdown",
   "id": "63ac63fb",
   "metadata": {},
   "source": [
    "<font color='blue'> Buffer points in dataset</font>"
   ]
  },
  {
   "cell_type": "code",
   "execution_count": 42,
   "id": "138971c3",
   "metadata": {},
   "outputs": [
    {
     "name": "stdout",
     "output_type": "stream",
     "text": [
      "6041     POLYGON ((8531716.307 1304007.453, 8531716.283...\n",
      "6092     POLYGON ((8530788.644 1307796.153, 8530788.620...\n",
      "6197     POLYGON ((8532643.969 1316796.140, 8532643.945...\n",
      "6202     POLYGON ((8528933.320 1316954.058, 8528933.296...\n",
      "6214     POLYGON ((8529520.839 1318406.937, 8529520.815...\n",
      "                               ...                        \n",
      "38075    POLYGON ((8575316.440 1463064.691, 8575316.416...\n",
      "38076    POLYGON ((8620308.068 1468302.143, 8620308.044...\n",
      "38089    POLYGON ((8321136.937 1497840.635, 8321136.913...\n",
      "38092    POLYGON ((8390711.619 1504991.764, 8390711.594...\n",
      "38094    POLYGON ((8460286.300 1509283.332, 8460286.276...\n",
      "Name: buffer, Length: 2083, dtype: geometry\n"
     ]
    }
   ],
   "source": [
    "iwgdf_proj = iwObj.buffer_geoms(5)\n",
    "# iwgdf_proj.head(2)\n",
    "print(iwgdf_proj.geometry)"
   ]
  },
  {
   "cell_type": "markdown",
   "id": "48bed7c9",
   "metadata": {},
   "source": [
    "## Plot dataset"
   ]
  },
  {
   "cell_type": "code",
   "execution_count": 43,
   "id": "035397ca",
   "metadata": {},
   "outputs": [
    {
     "name": "stdout",
     "output_type": "stream",
     "text": [
      "['geometry']\n"
     ]
    }
   ],
   "source": [
    "datacols = [elem for elem in list(iwgdfUG.columns) if elem not in metacols]\n",
    "# print(\"datacols are of the format 'May-96', 'Aug-96', 'Nov-96', 'Jan-97',..., 'Jan-17'\")\n",
    "print(datacols)"
   ]
  },
  {
   "cell_type": "code",
   "execution_count": 120,
   "id": "db355072",
   "metadata": {
    "tags": []
   },
   "outputs": [],
   "source": [
    "# cgwbgdfUG.plot(figsize=(15,15),column=datacols[0],vmin=5,vmax=20,legend=True)"
   ]
  },
  {
   "cell_type": "markdown",
   "id": "11231ddf",
   "metadata": {},
   "source": [
    "# Joins"
   ]
  },
  {
   "cell_type": "code",
   "execution_count": 113,
   "id": "7d52311c",
   "metadata": {},
   "outputs": [
    {
     "name": "stdout",
     "output_type": "stream",
     "text": [
      "Tej (CGWB) dataset: (2356, 92) (2356, 93) \n",
      " IWRIS (CGWB) dataset: (2382, 13) (2382, 14) \n",
      " IWRIS (CGWB) SHAPEFILE: (2083, 8) (2083, 9)\n"
     ]
    }
   ],
   "source": [
    "print(\"Tej (CGWB) dataset:\",tejgdfUG.shape,tejgdf_proj.shape,\"\\n\",\n",
    "      \"IWRIS (CGWB) dataset:\",cgwbgdfUG.shape,cgwbgdf_proj.shape,\"\\n\",\n",
    "      \"IWRIS (CGWB) SHAPEFILE:\",iwgdfUG.shape,iwgdf_proj.shape)"
   ]
  },
  {
   "cell_type": "code",
   "execution_count": 116,
   "id": "4ec10c75",
   "metadata": {},
   "outputs": [
    {
     "name": "stdout",
     "output_type": "stream",
     "text": [
      "<class 'geopandas.geodataframe.GeoDataFrame'>\n",
      "Int64Index: 2318 entries, 1699 to 27812\n",
      "Columns: 107 entries, SNO to geometry_right\n",
      "dtypes: float64(88), geometry(3), int64(2), object(14)\n",
      "memory usage: 1.9+ MB\n"
     ]
    }
   ],
   "source": [
    "join = gpd.sjoin(tejgdf_proj, cgwbgdf_proj, how=\"inner\", op='intersects')  \n",
    "join.info()"
   ]
  },
  {
   "cell_type": "code",
   "execution_count": 121,
   "id": "196a6900",
   "metadata": {},
   "outputs": [],
   "source": [
    "# join = gpd.sjoin(tejgdf_proj, iwgdf_proj, how=\"inner\", op='intersects')  # USE THIS TO COMPARE TEJ WITH IW SHAPE  -- LOW MATCH\n",
    "# join.info()"
   ]
  },
  {
   "cell_type": "code",
   "execution_count": 119,
   "id": "64f9d2bc",
   "metadata": {},
   "outputs": [],
   "source": [
    "# join = gpd.sjoin(tejgdfUG, cgwbgdfUG, how=\"inner\", op='intersects')      # USE THIS TO COMPARE POINT-FOR-POINT\n",
    "# join.info()"
   ]
  },
  {
   "cell_type": "markdown",
   "id": "1cd0184a",
   "metadata": {},
   "source": [
    "<font color = green>In Karnataka, 2318 (97%) of 2382 stations are common between Tejasvi's dataset and the current CGWB locations dataset</font>"
   ]
  }
 ],
 "metadata": {
  "kernelspec": {
   "display_name": "Python 3",
   "language": "python",
   "name": "python3"
  },
  "language_info": {
   "codemirror_mode": {
    "name": "ipython",
    "version": 3
   },
   "file_extension": ".py",
   "mimetype": "text/x-python",
   "name": "python",
   "nbconvert_exporter": "python",
   "pygments_lexer": "ipython3",
   "version": "3.7.10"
  },
  "toc-autonumbering": true,
  "toc-showcode": false
 },
 "nbformat": 4,
 "nbformat_minor": 5
}
