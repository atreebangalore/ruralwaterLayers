{
 "cells": [
  {
   "cell_type": "code",
   "execution_count": 1,
   "metadata": {},
   "outputs": [
    {
     "data": {
      "text/plain": [
       "'C:\\\\Users\\\\Craig D\\\\Code\\\\atree\\\\data'"
      ]
     },
     "execution_count": 1,
     "metadata": {},
     "output_type": "execute_result"
    }
   ],
   "source": [
    "import os\n",
    "os.getcwd()"
   ]
  },
  {
   "cell_type": "code",
   "execution_count": 16,
   "metadata": {},
   "outputs": [
    {
     "data": {
      "text/html": [
       "<div>\n",
       "<style scoped>\n",
       "    .dataframe tbody tr th:only-of-type {\n",
       "        vertical-align: middle;\n",
       "    }\n",
       "\n",
       "    .dataframe tbody tr th {\n",
       "        vertical-align: top;\n",
       "    }\n",
       "\n",
       "    .dataframe thead th {\n",
       "        text-align: right;\n",
       "    }\n",
       "</style>\n",
       "<table border=\"1\" class=\"dataframe\">\n",
       "  <thead>\n",
       "    <tr style=\"text-align: right;\">\n",
       "      <th></th>\n",
       "      <th>stateid</th>\n",
       "      <th>districtid</th>\n",
       "      <th>State</th>\n",
       "      <th>state_dist_key</th>\n",
       "      <th>Distict</th>\n",
       "      <th>year</th>\n",
       "      <th>jan</th>\n",
       "      <th>feb</th>\n",
       "      <th>mar</th>\n",
       "      <th>apr</th>\n",
       "      <th>may</th>\n",
       "      <th>jun</th>\n",
       "      <th>jul</th>\n",
       "      <th>aug</th>\n",
       "      <th>sep</th>\n",
       "      <th>oct</th>\n",
       "      <th>nov</th>\n",
       "      <th>dec</th>\n",
       "    </tr>\n",
       "  </thead>\n",
       "  <tbody>\n",
       "    <tr>\n",
       "      <th>58747</th>\n",
       "      <td>29</td>\n",
       "      <td>22</td>\n",
       "      <td>KARNATAKA</td>\n",
       "      <td>s29d22</td>\n",
       "      <td>MANDYA</td>\n",
       "      <td>2000</td>\n",
       "      <td>0.00</td>\n",
       "      <td>72.84</td>\n",
       "      <td>0.95</td>\n",
       "      <td>897.50</td>\n",
       "      <td>794.99</td>\n",
       "      <td>2930.56</td>\n",
       "      <td>4189.17</td>\n",
       "      <td>5492.38</td>\n",
       "      <td>1556.94</td>\n",
       "      <td>2973.88</td>\n",
       "      <td>289.21</td>\n",
       "      <td>220.82</td>\n",
       "    </tr>\n",
       "    <tr>\n",
       "      <th>58748</th>\n",
       "      <td>29</td>\n",
       "      <td>22</td>\n",
       "      <td>KARNATAKA</td>\n",
       "      <td>s29d22</td>\n",
       "      <td>MANDYA</td>\n",
       "      <td>2001</td>\n",
       "      <td>0.00</td>\n",
       "      <td>10.25</td>\n",
       "      <td>16.34</td>\n",
       "      <td>1362.74</td>\n",
       "      <td>1037.75</td>\n",
       "      <td>1359.32</td>\n",
       "      <td>4662.15</td>\n",
       "      <td>2212.59</td>\n",
       "      <td>1621.41</td>\n",
       "      <td>1749.93</td>\n",
       "      <td>420.97</td>\n",
       "      <td>61.91</td>\n",
       "    </tr>\n",
       "    <tr>\n",
       "      <th>58749</th>\n",
       "      <td>29</td>\n",
       "      <td>22</td>\n",
       "      <td>KARNATAKA</td>\n",
       "      <td>s29d22</td>\n",
       "      <td>MANDYA</td>\n",
       "      <td>2002</td>\n",
       "      <td>0.00</td>\n",
       "      <td>2.21</td>\n",
       "      <td>9.73</td>\n",
       "      <td>171.01</td>\n",
       "      <td>2430.00</td>\n",
       "      <td>5147.10</td>\n",
       "      <td>1672.01</td>\n",
       "      <td>1762.69</td>\n",
       "      <td>672.05</td>\n",
       "      <td>2439.75</td>\n",
       "      <td>433.34</td>\n",
       "      <td>32.60</td>\n",
       "    </tr>\n",
       "    <tr>\n",
       "      <th>58750</th>\n",
       "      <td>29</td>\n",
       "      <td>23</td>\n",
       "      <td>KARNATAKA</td>\n",
       "      <td>s29d23</td>\n",
       "      <td>HASSAN</td>\n",
       "      <td>1901</td>\n",
       "      <td>22.72</td>\n",
       "      <td>199.12</td>\n",
       "      <td>134.36</td>\n",
       "      <td>137.76</td>\n",
       "      <td>1305.04</td>\n",
       "      <td>5246.23</td>\n",
       "      <td>5873.51</td>\n",
       "      <td>3565.46</td>\n",
       "      <td>2496.85</td>\n",
       "      <td>2948.93</td>\n",
       "      <td>1309.15</td>\n",
       "      <td>248.31</td>\n",
       "    </tr>\n",
       "    <tr>\n",
       "      <th>58751</th>\n",
       "      <td>29</td>\n",
       "      <td>23</td>\n",
       "      <td>KARNATAKA</td>\n",
       "      <td>s29d23</td>\n",
       "      <td>HASSAN</td>\n",
       "      <td>1902</td>\n",
       "      <td>55.35</td>\n",
       "      <td>13.62</td>\n",
       "      <td>81.66</td>\n",
       "      <td>575.36</td>\n",
       "      <td>1307.76</td>\n",
       "      <td>7344.55</td>\n",
       "      <td>7246.30</td>\n",
       "      <td>2380.41</td>\n",
       "      <td>1532.91</td>\n",
       "      <td>3171.89</td>\n",
       "      <td>718.76</td>\n",
       "      <td>472.91</td>\n",
       "    </tr>\n",
       "  </tbody>\n",
       "</table>\n",
       "</div>"
      ],
      "text/plain": [
       "         stateid  districtid      State state_dist_key Distict   year    jan  \\\n",
       "58747         29          22  KARNATAKA         s29d22   MANDYA  2000   0.00   \n",
       "58748         29          22  KARNATAKA         s29d22   MANDYA  2001   0.00   \n",
       "58749         29          22  KARNATAKA         s29d22   MANDYA  2002   0.00   \n",
       "58750         29          23  KARNATAKA         s29d23   HASSAN  1901  22.72   \n",
       "58751         29          23  KARNATAKA         s29d23   HASSAN  1902  55.35   \n",
       "\n",
       "          feb     mar      apr      may      jun      jul      aug      sep  \\\n",
       "58747   72.84    0.95   897.50   794.99  2930.56  4189.17  5492.38  1556.94   \n",
       "58748   10.25   16.34  1362.74  1037.75  1359.32  4662.15  2212.59  1621.41   \n",
       "58749    2.21    9.73   171.01  2430.00  5147.10  1672.01  1762.69   672.05   \n",
       "58750  199.12  134.36   137.76  1305.04  5246.23  5873.51  3565.46  2496.85   \n",
       "58751   13.62   81.66   575.36  1307.76  7344.55  7246.30  2380.41  1532.91   \n",
       "\n",
       "           oct      nov     dec  \n",
       "58747  2973.88   289.21  220.82  \n",
       "58748  1749.93   420.97   61.91  \n",
       "58749  2439.75   433.34   32.60  \n",
       "58750  2948.93  1309.15  248.31  \n",
       "58751  3171.89   718.76  472.91  "
      ]
     },
     "execution_count": 16,
     "metadata": {},
     "output_type": "execute_result"
    }
   ],
   "source": [
    "import pandas as pd\n",
    "df = pd.read_csv(\"IMD_Precipitation_and_allied_1901_2003.csv\")\n",
    "# df = df.iloc[:38,]   # use this to subset only the first district\n",
    "df.tail()"
   ]
  },
  {
   "cell_type": "code",
   "execution_count": 17,
   "metadata": {},
   "outputs": [
    {
     "data": {
      "text/plain": [
       "(58752, 18)"
      ]
     },
     "execution_count": 17,
     "metadata": {},
     "output_type": "execute_result"
    }
   ],
   "source": [
    "df.shape"
   ]
  },
  {
   "cell_type": "code",
   "execution_count": 9,
   "metadata": {},
   "outputs": [
    {
     "name": "stdout",
     "output_type": "stream",
     "text": [
      "['  stateid', 'districtid', 'State', 'state_dist_key', 'Distict ', 'year', 'jan', 'feb', 'mar', 'apr', 'may', 'jun', 'jul', 'aug', 'sep', 'oct', 'nov', 'dec']\n"
     ]
    }
   ],
   "source": [
    "print(df.columns.tolist())"
   ]
  },
  {
   "cell_type": "code",
   "execution_count": 12,
   "metadata": {},
   "outputs": [],
   "source": [
    "id_vars = df.columns.tolist()[0:6]\n",
    "var_name = \"month\"\n",
    "value_name = \"rainfall\""
   ]
  },
  {
   "cell_type": "code",
   "execution_count": 18,
   "metadata": {},
   "outputs": [
    {
     "data": {
      "text/html": [
       "<div>\n",
       "<style scoped>\n",
       "    .dataframe tbody tr th:only-of-type {\n",
       "        vertical-align: middle;\n",
       "    }\n",
       "\n",
       "    .dataframe tbody tr th {\n",
       "        vertical-align: top;\n",
       "    }\n",
       "\n",
       "    .dataframe thead th {\n",
       "        text-align: right;\n",
       "    }\n",
       "</style>\n",
       "<table border=\"1\" class=\"dataframe\">\n",
       "  <thead>\n",
       "    <tr style=\"text-align: right;\">\n",
       "      <th></th>\n",
       "      <th>stateid</th>\n",
       "      <th>districtid</th>\n",
       "      <th>State</th>\n",
       "      <th>state_dist_key</th>\n",
       "      <th>Distict</th>\n",
       "      <th>year</th>\n",
       "      <th>month</th>\n",
       "      <th>rainfall</th>\n",
       "    </tr>\n",
       "  </thead>\n",
       "  <tbody>\n",
       "    <tr>\n",
       "      <th>0</th>\n",
       "      <td>2</td>\n",
       "      <td>3</td>\n",
       "      <td>HIMACHAL PRADESH</td>\n",
       "      <td>s2d3</td>\n",
       "      <td>LAHUL &amp; SPITI</td>\n",
       "      <td>1965</td>\n",
       "      <td>jan</td>\n",
       "      <td>144.13</td>\n",
       "    </tr>\n",
       "    <tr>\n",
       "      <th>1</th>\n",
       "      <td>2</td>\n",
       "      <td>3</td>\n",
       "      <td>HIMACHAL PRADESH</td>\n",
       "      <td>s2d3</td>\n",
       "      <td>LAHUL &amp; SPITI</td>\n",
       "      <td>1966</td>\n",
       "      <td>jan</td>\n",
       "      <td>67.26</td>\n",
       "    </tr>\n",
       "    <tr>\n",
       "      <th>2</th>\n",
       "      <td>2</td>\n",
       "      <td>3</td>\n",
       "      <td>HIMACHAL PRADESH</td>\n",
       "      <td>s2d3</td>\n",
       "      <td>LAHUL &amp; SPITI</td>\n",
       "      <td>1967</td>\n",
       "      <td>jan</td>\n",
       "      <td>12.44</td>\n",
       "    </tr>\n",
       "    <tr>\n",
       "      <th>3</th>\n",
       "      <td>2</td>\n",
       "      <td>3</td>\n",
       "      <td>HIMACHAL PRADESH</td>\n",
       "      <td>s2d3</td>\n",
       "      <td>LAHUL &amp; SPITI</td>\n",
       "      <td>1968</td>\n",
       "      <td>jan</td>\n",
       "      <td>342.72</td>\n",
       "    </tr>\n",
       "    <tr>\n",
       "      <th>4</th>\n",
       "      <td>2</td>\n",
       "      <td>3</td>\n",
       "      <td>HIMACHAL PRADESH</td>\n",
       "      <td>s2d3</td>\n",
       "      <td>LAHUL &amp; SPITI</td>\n",
       "      <td>1969</td>\n",
       "      <td>jan</td>\n",
       "      <td>143.09</td>\n",
       "    </tr>\n",
       "  </tbody>\n",
       "</table>\n",
       "</div>"
      ],
      "text/plain": [
       "     stateid  districtid             State state_dist_key       Distict   \\\n",
       "0          2           3  HIMACHAL PRADESH           s2d3  LAHUL & SPITI   \n",
       "1          2           3  HIMACHAL PRADESH           s2d3  LAHUL & SPITI   \n",
       "2          2           3  HIMACHAL PRADESH           s2d3  LAHUL & SPITI   \n",
       "3          2           3  HIMACHAL PRADESH           s2d3  LAHUL & SPITI   \n",
       "4          2           3  HIMACHAL PRADESH           s2d3  LAHUL & SPITI   \n",
       "\n",
       "   year month  rainfall  \n",
       "0  1965   jan    144.13  \n",
       "1  1966   jan     67.26  \n",
       "2  1967   jan     12.44  \n",
       "3  1968   jan    342.72  \n",
       "4  1969   jan    143.09  "
      ]
     },
     "execution_count": 18,
     "metadata": {},
     "output_type": "execute_result"
    }
   ],
   "source": [
    "dflong = pd.melt(df,id_vars=id_vars,var_name=var_name, value_name=value_name)\n",
    "dflong.head()"
   ]
  },
  {
   "cell_type": "code",
   "execution_count": 19,
   "metadata": {},
   "outputs": [
    {
     "data": {
      "text/plain": [
       "(705024, 8)"
      ]
     },
     "execution_count": 19,
     "metadata": {},
     "output_type": "execute_result"
    }
   ],
   "source": [
    "dflong.shape"
   ]
  },
  {
   "cell_type": "code",
   "execution_count": 29,
   "metadata": {},
   "outputs": [
    {
     "data": {
      "text/plain": [
       "Index(['  stateid', 'districtid', 'State', 'state_dist_key', 'Distict ',\n",
       "       'year', 'month', 'rainfall'],\n",
       "      dtype='object')"
      ]
     },
     "execution_count": 29,
     "metadata": {},
     "output_type": "execute_result"
    }
   ],
   "source": [
    "dflong.columns"
   ]
  },
  {
   "cell_type": "code",
   "execution_count": 32,
   "metadata": {},
   "outputs": [
    {
     "data": {
      "text/html": [
       "<div>\n",
       "<style scoped>\n",
       "    .dataframe tbody tr th:only-of-type {\n",
       "        vertical-align: middle;\n",
       "    }\n",
       "\n",
       "    .dataframe tbody tr th {\n",
       "        vertical-align: top;\n",
       "    }\n",
       "\n",
       "    .dataframe thead th {\n",
       "        text-align: right;\n",
       "    }\n",
       "</style>\n",
       "<table border=\"1\" class=\"dataframe\">\n",
       "  <thead>\n",
       "    <tr style=\"text-align: right;\">\n",
       "      <th></th>\n",
       "      <th>State</th>\n",
       "      <th>District</th>\n",
       "      <th>year</th>\n",
       "      <th>month</th>\n",
       "      <th>precipitation</th>\n",
       "    </tr>\n",
       "  </thead>\n",
       "  <tbody>\n",
       "    <tr>\n",
       "      <th>0</th>\n",
       "      <td>HIMACHAL PRADESH</td>\n",
       "      <td>LAHUL &amp; SPITI</td>\n",
       "      <td>1965</td>\n",
       "      <td>jan</td>\n",
       "      <td>144.13</td>\n",
       "    </tr>\n",
       "    <tr>\n",
       "      <th>1</th>\n",
       "      <td>HIMACHAL PRADESH</td>\n",
       "      <td>LAHUL &amp; SPITI</td>\n",
       "      <td>1966</td>\n",
       "      <td>jan</td>\n",
       "      <td>67.26</td>\n",
       "    </tr>\n",
       "    <tr>\n",
       "      <th>2</th>\n",
       "      <td>HIMACHAL PRADESH</td>\n",
       "      <td>LAHUL &amp; SPITI</td>\n",
       "      <td>1967</td>\n",
       "      <td>jan</td>\n",
       "      <td>12.44</td>\n",
       "    </tr>\n",
       "    <tr>\n",
       "      <th>3</th>\n",
       "      <td>HIMACHAL PRADESH</td>\n",
       "      <td>LAHUL &amp; SPITI</td>\n",
       "      <td>1968</td>\n",
       "      <td>jan</td>\n",
       "      <td>342.72</td>\n",
       "    </tr>\n",
       "    <tr>\n",
       "      <th>4</th>\n",
       "      <td>HIMACHAL PRADESH</td>\n",
       "      <td>LAHUL &amp; SPITI</td>\n",
       "      <td>1969</td>\n",
       "      <td>jan</td>\n",
       "      <td>143.09</td>\n",
       "    </tr>\n",
       "  </tbody>\n",
       "</table>\n",
       "</div>"
      ],
      "text/plain": [
       "              State       District  year month  precipitation\n",
       "0  HIMACHAL PRADESH  LAHUL & SPITI  1965   jan         144.13\n",
       "1  HIMACHAL PRADESH  LAHUL & SPITI  1966   jan          67.26\n",
       "2  HIMACHAL PRADESH  LAHUL & SPITI  1967   jan          12.44\n",
       "3  HIMACHAL PRADESH  LAHUL & SPITI  1968   jan         342.72\n",
       "4  HIMACHAL PRADESH  LAHUL & SPITI  1969   jan         143.09"
      ]
     },
     "execution_count": 32,
     "metadata": {},
     "output_type": "execute_result"
    }
   ],
   "source": [
    "dflong = dflong.loc[:,[\"State\",\"Distict \",\"year\",\"month\",\"rainfall\"]]\n",
    "dflong.columns = [\"State\",\"District\",\"year\",\"month\",\"precipitation\"]\n",
    "dflong.head()"
   ]
  },
  {
   "cell_type": "code",
   "execution_count": 36,
   "metadata": {},
   "outputs": [],
   "source": [
    "dflong.to_csv(\"IMD_Precipitation_1901_2003_long.csv\")"
   ]
  }
 ],
 "metadata": {
  "kernelspec": {
   "display_name": "Python 3",
   "language": "python",
   "name": "python3"
  },
  "language_info": {
   "codemirror_mode": {
    "name": "ipython",
    "version": 3
   },
   "file_extension": ".py",
   "mimetype": "text/x-python",
   "name": "python",
   "nbconvert_exporter": "python",
   "pygments_lexer": "ipython3",
   "version": "3.8.3"
  }
 },
 "nbformat": 4,
 "nbformat_minor": 4
}
