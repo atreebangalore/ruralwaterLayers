{
 "cells": [
  {
   "cell_type": "markdown",
   "id": "0629af95",
   "metadata": {},
   "source": [
    "# imports"
   ]
  },
  {
   "cell_type": "code",
   "execution_count": 1,
   "id": "e4797d9f",
   "metadata": {},
   "outputs": [],
   "source": [
    "import os,sys\n",
    "from pathlib import Path\n",
    "import re\n",
    "\n",
    "import numpy as np\n",
    "import pandas as pd\n",
    "import matplotlib.pyplot as plt\n",
    "import geopandas as gpd"
   ]
  },
  {
   "cell_type": "code",
   "execution_count": 6,
   "id": "a9d0a30f",
   "metadata": {},
   "outputs": [],
   "source": [
    "# paths\n",
    "root = Path.home()\n",
    "config = root.joinpath(\"Code\",\"atree\",\"config\")\n",
    "sys.path += [str(root),str(config)]\n",
    "# opPath = root.joinpath(\"Code\",\"atree\",\"outputs\",\"groundwater\",\"levels\",\"preprocessed\")\n",
    "# print(\"data saved in :\",opPath)\n",
    "\n",
    "filePath = root.joinpath(\"Data\",\"groundwater\",\"aquifers\",\"india_principal_aquifers.shp\")\n",
    "opPath = root.joinpath(\"Data\",\"groundwater\",\"aquifers\",\"india_principal_aquifers_sy.shp\")\n",
    "aqCodesPath = root.joinpath(\"Data\",\"groundwater\",\"aquifers\",\"india_principal_aquifers.csv\")"
   ]
  },
  {
   "cell_type": "markdown",
   "id": "018bade8",
   "metadata": {},
   "source": [
    "# read in data"
   ]
  },
  {
   "cell_type": "code",
   "execution_count": 3,
   "id": "c85a56dd",
   "metadata": {},
   "outputs": [
    {
     "name": "stdout",
     "output_type": "stream",
     "text": [
      "Index(['fid', 'objectid', 'newcode14', 'aquifer', 'newcode43', 'aquifer0',\n",
      "       'system', 'aquifers', 'zone_m', 'mbgl', 'avg_mbgl', 'm2_perday',\n",
      "       'm3_per_day', 'yeild__', 'per_cm', 'state', 'pa_order', 'test',\n",
      "       'area_re', 'st_area(sh', 'st_length(', 'RI_Factor', 'RI_Fac_Min',\n",
      "       'RI_Fac_Max', 'geometry'],\n",
      "      dtype='object')\n"
     ]
    }
   ],
   "source": [
    "gdf = gpd.read_file(filePath,driver='shapefile')\n",
    "print(gdf.columns)"
   ]
  },
  {
   "cell_type": "code",
   "execution_count": null,
   "id": "5059ccea",
   "metadata": {},
   "outputs": [],
   "source": [
    "# after studying attribute table in QGIS,\n",
    "\n",
    "# aquifer info is stored in hierarchical manner,\n",
    "# 'newcode14' and 'aquifer' being the short code and type of aquifer, e.g. AL and Alluvium\n",
    "# list all unique types\n",
    "# 'newcode43' and 'aquifer0' are the short code and name of aquifer sub-type, e.g. AL05 and Coastal Alluvium (Sand, Silt, Clay)\n",
    "# list all unique sub-types\n",
    "\n",
    "# the following columns were dropped , since they're unnecessary/unclear\n",
    "# \"newcode14\",\"newcode43\", described above, unnecessary\n",
    "# \"RI_Factor\",\"RI_Factor_Min\",\"RI_Factor_Max\" are mostly blank columns, it's unclear what RI is??\n",
    "# \"area_re\",\"st_area(sh\",\"st_length(\" are presumably the area in sq.km, sq.m, and length of perimeter\n",
    "# \"pa_order\" , ranges from 1-15 and it's purpose is unclear\n",
    "\n",
    "# these are unclear, dropped temporarily, after their usefulness is established\n",
    "# \"system\", either null, single or multiple\n",
    "# \"aquifers\": \"unconfined to confined\", \"unconfined to semi-confined\" etc\n",
    "# \"zone_m\": unknown, values like '40-400','50-80' ...\n",
    "# \"mbgl\",\"avg_mbgl\": unknown, not sure if these two are about water levels/aquifer levels or both\n",
    "# \"m3_per_day\" : unknown\n",
    "# \"per_cm\" : unknown, values like 1000-3000, 500-750 etc\n",
    "# \"m2_perday\" : transmissivity, specified as ranges\n",
    "\n",
    "# these columns are retained, although not all are clear\n",
    "# \"yield__\" : specific yield, values like 6-8%, 8-15% etc\n"
   ]
  },
  {
   "cell_type": "code",
   "execution_count": 4,
   "id": "69f8a66d",
   "metadata": {},
   "outputs": [],
   "source": [
    "keepcols = [\"fid\",\"aquifer\",\"newcode43\",\"aquifer0\",\"yeild__\",\"geometry\"]"
   ]
  },
  {
   "cell_type": "code",
   "execution_count": 11,
   "id": "b14e5069",
   "metadata": {},
   "outputs": [],
   "source": [
    "aq_groups = gdf.groupby(['newcode43','aquifer0']).count()\n",
    "aq_groups.drop('geometry',axis=1).to_csv(aqCodesPath) "
   ]
  },
  {
   "cell_type": "markdown",
   "id": "b99e8084",
   "metadata": {},
   "source": [
    "# clean specific yield column"
   ]
  },
  {
   "cell_type": "code",
   "execution_count": null,
   "id": "03b135e3",
   "metadata": {},
   "outputs": [],
   "source": [
    "gdf_light = gdf.loc[:,keepcols]"
   ]
  },
  {
   "cell_type": "code",
   "execution_count": null,
   "id": "b4187e4d",
   "metadata": {},
   "outputs": [],
   "source": [
    "# remove spaces                   DONE\n",
    "# remove % signs                  DONE\n",
    "# replace \"Upto\" with \"0-\"        DONE\n",
    "# replace \"Up to\" with \"0-\"       DONE\n",
    "# replace \"Not Explored\" with \"\"  DONE\n",
    "# replace \"-3.5%\" with \"3.5%\"     DONE\n",
    "# replace \" 5-2\" with \"5\"         DONE\n",
    "\n",
    "# remove just \"-\", \"\" \n",
    "# replace \"\" with nan "
   ]
  },
  {
   "cell_type": "code",
   "execution_count": 61,
   "id": "4d447cea",
   "metadata": {},
   "outputs": [
    {
     "data": {
      "text/plain": [
       "Upto 3%         81\n",
       "-               76\n",
       "Upto 2%         67\n",
       "Upto 1.5%       45\n",
       "1-2.5           23\n",
       "8 - 15%         20\n",
       "Upto 2.5%       14\n",
       "6 - 10%         14\n",
       "Upto 6%         11\n",
       "Upto 8%         11\n",
       "6 - 8%           6\n",
       "Upto 3 %         6\n",
       "Upto 1%          6\n",
       "1-2%             5\n",
       "8 - 10%          5\n",
       "Upto 5%          5\n",
       "6 - 12%          4\n",
       "6 - 16%          4\n",
       "8 - 12%          4\n",
       "8 - 20%          4\n",
       "2-3%             4\n",
       "6 - 15%          3\n",
       "Upto 15%         3\n",
       "8 - 16%          3\n",
       "8 - 18%          3\n",
       "Up to 1.5%       3\n",
       "Upto 5-2%        3\n",
       "Upto 3.5%        3\n",
       "Upto 4%          3\n",
       "1-1.5%           3\n",
       "Upto 1.2%        2\n",
       "0.08             1\n",
       "Not Explored     1\n",
       "1.5-2%           1\n",
       "Upto -3.5%       1\n",
       "Upto 9%          1\n",
       "Name: sy, dtype: int64"
      ]
     },
     "execution_count": 61,
     "metadata": {},
     "output_type": "execute_result"
    }
   ],
   "source": [
    "gdf_light[\"sy\"].value_counts()"
   ]
  },
  {
   "cell_type": "code",
   "execution_count": 104,
   "id": "a9590221",
   "metadata": {},
   "outputs": [
    {
     "data": {
      "text/html": [
       "<div>\n",
       "<style scoped>\n",
       "    .dataframe tbody tr th:only-of-type {\n",
       "        vertical-align: middle;\n",
       "    }\n",
       "\n",
       "    .dataframe tbody tr th {\n",
       "        vertical-align: top;\n",
       "    }\n",
       "\n",
       "    .dataframe thead th {\n",
       "        text-align: right;\n",
       "    }\n",
       "</style>\n",
       "<table border=\"1\" class=\"dataframe\">\n",
       "  <thead>\n",
       "    <tr style=\"text-align: right;\">\n",
       "      <th></th>\n",
       "      <th>fid</th>\n",
       "      <th>aquifer-l0</th>\n",
       "      <th>aquifer-l1</th>\n",
       "      <th>sy</th>\n",
       "      <th>geometry</th>\n",
       "      <th>sy_clean</th>\n",
       "      <th>sy_min</th>\n",
       "      <th>sy_max</th>\n",
       "      <th>sy_mean</th>\n",
       "    </tr>\n",
       "  </thead>\n",
       "  <tbody>\n",
       "    <tr>\n",
       "      <th>0</th>\n",
       "      <td>1.0</td>\n",
       "      <td>Basalt</td>\n",
       "      <td>Basic Rocks (Basalt)</td>\n",
       "      <td>1-1.5%</td>\n",
       "      <td>MULTIPOLYGON (((998764.318 1694946.315, 998043...</td>\n",
       "      <td>1-1.5</td>\n",
       "      <td>1.0</td>\n",
       "      <td>1.5</td>\n",
       "      <td>1.25</td>\n",
       "    </tr>\n",
       "    <tr>\n",
       "      <th>1</th>\n",
       "      <td>2.0</td>\n",
       "      <td>Gneiss</td>\n",
       "      <td>Undifferentiated metasedimentaries/ Undifferen...</td>\n",
       "      <td>Upto 1.5%</td>\n",
       "      <td>MULTIPOLYGON (((779646.951 1756167.620, 781182...</td>\n",
       "      <td>0-1.5</td>\n",
       "      <td>0.0</td>\n",
       "      <td>1.5</td>\n",
       "      <td>0.75</td>\n",
       "    </tr>\n",
       "    <tr>\n",
       "      <th>2</th>\n",
       "      <td>3.0</td>\n",
       "      <td>Gneiss</td>\n",
       "      <td>Migmatitic Gneiss</td>\n",
       "      <td>None</td>\n",
       "      <td>POLYGON ((1360161.311 2083353.975, 1359817.469...</td>\n",
       "      <td>NaN</td>\n",
       "      <td>NaN</td>\n",
       "      <td>NaN</td>\n",
       "      <td>NaN</td>\n",
       "    </tr>\n",
       "    <tr>\n",
       "      <th>3</th>\n",
       "      <td>4.0</td>\n",
       "      <td>Quartzite</td>\n",
       "      <td>Quartzite</td>\n",
       "      <td>1-2.5</td>\n",
       "      <td>MULTIPOLYGON (((973097.489 1731405.847, 973186...</td>\n",
       "      <td>1-2.5</td>\n",
       "      <td>1.0</td>\n",
       "      <td>2.5</td>\n",
       "      <td>1.75</td>\n",
       "    </tr>\n",
       "    <tr>\n",
       "      <th>4</th>\n",
       "      <td>5.0</td>\n",
       "      <td>Quartzite</td>\n",
       "      <td>Quartzite</td>\n",
       "      <td>1-2.5</td>\n",
       "      <td>MULTIPOLYGON (((1394403.104 2062358.522, 13948...</td>\n",
       "      <td>1-2.5</td>\n",
       "      <td>1.0</td>\n",
       "      <td>2.5</td>\n",
       "      <td>1.75</td>\n",
       "    </tr>\n",
       "  </tbody>\n",
       "</table>\n",
       "</div>"
      ],
      "text/plain": [
       "   fid aquifer-l0                                         aquifer-l1  \\\n",
       "0  1.0     Basalt                               Basic Rocks (Basalt)   \n",
       "1  2.0     Gneiss  Undifferentiated metasedimentaries/ Undifferen...   \n",
       "2  3.0     Gneiss                                  Migmatitic Gneiss   \n",
       "3  4.0  Quartzite                                          Quartzite   \n",
       "4  5.0  Quartzite                                          Quartzite   \n",
       "\n",
       "          sy                                           geometry sy_clean  \\\n",
       "0     1-1.5%  MULTIPOLYGON (((998764.318 1694946.315, 998043...    1-1.5   \n",
       "1  Upto 1.5%  MULTIPOLYGON (((779646.951 1756167.620, 781182...    0-1.5   \n",
       "2       None  POLYGON ((1360161.311 2083353.975, 1359817.469...      NaN   \n",
       "3      1-2.5  MULTIPOLYGON (((973097.489 1731405.847, 973186...    1-2.5   \n",
       "4      1-2.5  MULTIPOLYGON (((1394403.104 2062358.522, 13948...    1-2.5   \n",
       "\n",
       "   sy_min  sy_max  sy_mean  \n",
       "0     1.0     1.5     1.25  \n",
       "1     0.0     1.5     0.75  \n",
       "2     NaN     NaN      NaN  \n",
       "3     1.0     2.5     1.75  \n",
       "4     1.0     2.5     1.75  "
      ]
     },
     "execution_count": 104,
     "metadata": {},
     "output_type": "execute_result"
    }
   ],
   "source": [
    "gdf_light = gdf.loc[:,keepcols]\n",
    "\n",
    "# rename columns\n",
    "gdf_light.columns = [\"fid\",\"aquifer-l0\",\"aquifer-l1\",\"sy\",\"geometry\"]\n",
    "\n",
    "rep = {\" 5-2\":\"5\",\"0.08\":\"0-0.08\",\"Upto\":\"0-\", \"Up to\":\"0-\",\"Not Explored\":\"\",\"-3.5\":\"3.5\", \" \":\"\",\"%\":\"\"} # order matters??\n",
    "rep = dict((re.escape(k), v) for k, v in rep.items())\n",
    "# print(rep)\n",
    "\n",
    "pattern = re.compile(\"|\".join(rep.keys()))\n",
    "# print(pattern,type(pattern))\n",
    "\n",
    "gdf_light[\"sy_clean\"] = gdf_light[\"sy\"].apply(lambda x: pattern.sub(lambda x: rep[re.escape(x.group(0))], x) if type(x)==str else '')\n",
    "gdf_light.loc[(gdf_light.sy_clean==\"\")|(gdf_light.sy_clean==\"-\"),\"sy_clean\"] = np.nan\n",
    "\n",
    "gdf_light[['sy_min','sy_max']] = gdf_light['sy_clean'].str.split('-', expand=True).apply(pd.to_numeric)\n",
    "\n",
    "gdf_light[['sy_mean']] = gdf_light[['sy_min','sy_max']].mean(axis=1)\n",
    "\n",
    "gdf_light.head()"
   ]
  },
  {
   "cell_type": "code",
   "execution_count": 105,
   "id": "3babc2f0",
   "metadata": {},
   "outputs": [
    {
     "data": {
      "image/png": "[encoded data removed]",
      "text/plain": [
       "<Figure size 432x288 with 1 Axes>"
      ]
     },
     "metadata": {
      "needs_background": "light"
     },
     "output_type": "display_data"
    }
   ],
   "source": [
    "gdf_light[\"sy_mean\"].value_counts().sort_index().plot(kind='bar')\n",
    "plt.show()"
   ]
  },
  {
   "cell_type": "code",
   "execution_count": 106,
   "id": "fc0b80a2",
   "metadata": {},
   "outputs": [],
   "source": [
    "gdf_light.to_file(opPath)"
   ]
  }
 ],
 "metadata": {
  "kernelspec": {
   "display_name": "Python 3",
   "language": "python",
   "name": "python3"
  },
  "language_info": {
   "codemirror_mode": {
    "name": "ipython",
    "version": 3
   },
   "file_extension": ".py",
   "mimetype": "text/x-python",
   "name": "python",
   "nbconvert_exporter": "python",
   "pygments_lexer": "ipython3",
   "version": "3.7.10"
  }
 },
 "nbformat": 4,
 "nbformat_minor": 5
}
