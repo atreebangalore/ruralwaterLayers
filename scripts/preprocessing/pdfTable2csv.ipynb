{
 "cells": [
  {
   "cell_type": "markdown",
   "id": "1ac1bb4c-e715-4ba3-8fe9-3e2945c0acbf",
   "metadata": {},
   "source": [
    "Recommended to use https://tabula.technology/ instead of this script,\n",
    "both work on same tabula, the above software provides more functionality and\n",
    "GUI for better interface. If your PDF is based on image then recommended to use\n",
    "Microsoft Office Mobile app functionality (Image to Table)."
   ]
  },
  {
   "cell_type": "markdown",
   "id": "9767923e-90b4-44ef-8930-767ec5942b1a",
   "metadata": {},
   "source": [
    "# Not Recommended"
   ]
  },
  {
   "cell_type": "markdown",
   "id": "da8d2eb3-6817-404c-9e2e-8389ca92cd5d",
   "metadata": {},
   "source": [
    "This notebook is more functional than the pdfTable2csv.py script, but is more Trial and Error based, so it is recommended to look into https://tabula.technology/"
   ]
  },
  {
   "cell_type": "code",
   "execution_count": 1,
   "id": "f5226988-0da6-4e29-9dff-d46fdf184aba",
   "metadata": {},
   "outputs": [],
   "source": [
    "import tabula\n",
    "import os, sys\n",
    "import PyPDF2 as pdf2\n",
    "import logging"
   ]
  },
  {
   "cell_type": "markdown",
   "id": "4503bc26-014a-40d9-b9af-39ccbe19fd9b",
   "metadata": {},
   "source": [
    "# Info\n",
    "page_no => go through each page of a file while testing\n",
    "\n",
    "area => (top,left,bottom,right) # Trial And Error Method\n",
    "\n",
    "colums => [end of 1st column, end of 2nd column] # divide right value (area) with no. of columns\n",
    "\n",
    "lattice = True # True if table has border lines or else False\n",
    "\n",
    "stream = False # True if table boder line are whitespace or else False"
   ]
  },
  {
   "cell_type": "markdown",
   "id": "6a27f4ee-13ec-4065-a2c2-7e56fd23faad",
   "metadata": {},
   "source": [
    "# Testing"
   ]
  },
  {
   "cell_type": "code",
   "execution_count": 2,
   "id": "1cc90977-74b7-44ac-8447-d588c5532f2a",
   "metadata": {},
   "outputs": [],
   "source": [
    "file = r'C:\\Users\\atree\\Desktop\\SW_pdfs\\Water_Quality_Drains_STPs__WTPs_2020.pdf'"
   ]
  },
  {
   "cell_type": "code",
   "execution_count": 7,
   "id": "020d5df3-54e7-4e76-8908-ef842da725d7",
   "metadata": {},
   "outputs": [
    {
     "data": {
      "text/html": [
       "<div>\n",
       "<style scoped>\n",
       "    .dataframe tbody tr th:only-of-type {\n",
       "        vertical-align: middle;\n",
       "    }\n",
       "\n",
       "    .dataframe tbody tr th {\n",
       "        vertical-align: top;\n",
       "    }\n",
       "\n",
       "    .dataframe thead th {\n",
       "        text-align: right;\n",
       "    }\n",
       "</style>\n",
       "<table border=\"1\" class=\"dataframe\">\n",
       "  <thead>\n",
       "    <tr style=\"text-align: right;\">\n",
       "      <th></th>\n",
       "      <th>0</th>\n",
       "      <th>1</th>\n",
       "      <th>2</th>\n",
       "      <th>3</th>\n",
       "      <th>4</th>\n",
       "    </tr>\n",
       "  </thead>\n",
       "  <tbody>\n",
       "    <tr>\n",
       "      <th>0</th>\n",
       "      <td>24</td>\n",
       "      <td>20044</td>\n",
       "      <td>THANJAVUR</td>\n",
       "      <td>NaN</td>\n",
       "      <td>TAM</td>\n",
       "    </tr>\n",
       "    <tr>\n",
       "      <th>1</th>\n",
       "      <td>25</td>\n",
       "      <td>20045</td>\n",
       "      <td>TIRUNELVELI</td>\n",
       "      <td>NaN</td>\n",
       "      <td>TAM</td>\n",
       "    </tr>\n",
       "    <tr>\n",
       "      <th>2</th>\n",
       "      <td>26</td>\n",
       "      <td>20047</td>\n",
       "      <td>KUMBAKONAM</td>\n",
       "      <td>NaN</td>\n",
       "      <td>TAM</td>\n",
       "    </tr>\n",
       "    <tr>\n",
       "      <th>3</th>\n",
       "      <td>27</td>\n",
       "      <td>20048</td>\n",
       "      <td>SWARG ASHRAM - 1</td>\n",
       "      <td>NaN</td>\n",
       "      <td>UTT</td>\n",
       "    </tr>\n",
       "    <tr>\n",
       "      <th>4</th>\n",
       "      <td>29</td>\n",
       "      <td>20049</td>\n",
       "      <td>LAKKAR GHAT-\\rOXIDATION PONDS</td>\n",
       "      <td>NaN</td>\n",
       "      <td>UTT</td>\n",
       "    </tr>\n",
       "    <tr>\n",
       "      <th>5</th>\n",
       "      <td>31</td>\n",
       "      <td>20050</td>\n",
       "      <td>JAGJITPUR</td>\n",
       "      <td>NaN</td>\n",
       "      <td>UTT</td>\n",
       "    </tr>\n",
       "  </tbody>\n",
       "</table>\n",
       "</div>"
      ],
      "text/plain": [
       "    0      1                              2   3    4\n",
       "0  24  20044                      THANJAVUR NaN  TAM\n",
       "1  25  20045                    TIRUNELVELI NaN  TAM\n",
       "2  26  20047                     KUMBAKONAM NaN  TAM\n",
       "3  27  20048               SWARG ASHRAM - 1 NaN  UTT\n",
       "4  29  20049  LAKKAR GHAT-\\rOXIDATION PONDS NaN  UTT\n",
       "5  31  20050                      JAGJITPUR NaN  UTT"
      ]
     },
     "execution_count": 8,
     "metadata": {},
     "output_type": "execute_result"
    }
   ],
   "source": [
    "page_no = 6\n",
    "area = (92.9, 27.4, 828, 220)\n",
    "col_div = [49,85,163.4,198.7,248.4,277.2,312.5,339.8,368.6,396.7,432.7,460.1,496.1,524.2,567.4,602.6,637.9,687.6,736.6,779.8]\n",
    "lattice=True\n",
    "stream=False\n",
    "\n",
    "# ------------------------------------------------------\n",
    "df= tabula.read_pdf(file, pages = page_no, area = area, columns = col_div, pandas_options={'header': None}, lattice=lattice, stream=stream)\n",
    "df[0]"
   ]
  },
  {
   "cell_type": "markdown",
   "id": "b95a225f-c83d-433c-9d30-8cf4f3e2df21",
   "metadata": {},
   "source": [
    "# Inputs"
   ]
  },
  {
   "cell_type": "code",
   "execution_count": 20,
   "id": "0eafc5a1-de54-4497-9857-262a49b7c863",
   "metadata": {},
   "outputs": [],
   "source": [
    "path = r'C:\\Users\\atree\\Desktop\\SW_pdfs\\Water_Quality_data_of_Med_min_River_2020.pdf'\n",
    "pages = [] # leave empty if all pages to be scanned\n",
    "area_dict = {1:(147, 13, 774, 535), 'others':(147.6, 13, 774, 565)}\n",
    "col_div_dict = {1:[48.2,207.4,283,312.5,342,368.6,396,421.2,448.6,481,510.5,537.1,565.2,594.7,624.2,655.2,694.8,730.1],\n",
    "               'others': [49,205.9,283,312.5,342.7,368.6,396,421.2,449.3,479.5,510.5,536.4,565.9,595.4,625,655.2,694.8,730.1]}\n",
    "lattice=True\n",
    "stream=False"
   ]
  },
  {
   "cell_type": "code",
   "execution_count": 21,
   "id": "fd3701fa-4f24-429f-b00c-c393798558fe",
   "metadata": {},
   "outputs": [],
   "source": [
    "replaceDict = {}\n",
    "splitDict = {}"
   ]
  },
  {
   "cell_type": "code",
   "execution_count": 22,
   "id": "735610a1-711d-4d1f-a804-666489dfce66",
   "metadata": {},
   "outputs": [],
   "source": [
    "outPath = os.path.join(os.path.expanduser(\"~\"), 'Desktop', 'pdfTable2csv')\n",
    "os.makedirs(outPath, exist_ok=True)\n",
    "logging.basicConfig(filename=os.path.join(outPath,'pdfTable2csv.log'), format='%(asctime)s %(levelname)s: %(message)s', filemode='w', level=logging.DEBUG)"
   ]
  },
  {
   "cell_type": "code",
   "execution_count": 23,
   "id": "fba44e21-f26c-48f2-9b8b-697a957d5b77",
   "metadata": {},
   "outputs": [],
   "source": [
    "def extraction(file,page_no):\n",
    "    if page_no in area_dict:\n",
    "        area = area_dict[page_no]\n",
    "    elif 'others' in area_dict:\n",
    "        area = area_dict['others']\n",
    "    elif 'all' in area_dict:\n",
    "        area = area_dict['all']\n",
    "    else:\n",
    "        status = \"area value cannot be fetched from area_dict\"\n",
    "        logging.error(status)\n",
    "        raise ValueError(status)\n",
    "    logging.info('area value fetched from area_dict')\n",
    "    if page_no in col_div_dict:\n",
    "        col_div = col_div_dict[page_no]\n",
    "    elif 'others' in col_div_dict:\n",
    "        col_div = col_div_dict['others']\n",
    "    elif 'all' in col_div_dict:\n",
    "        col_div = col_div_dict['all']\n",
    "    else:\n",
    "        status = \"column division value cannot be fetched from col_div_dict\"\n",
    "        logging.error(status)\n",
    "        raise ValueError(status)\n",
    "    try:\n",
    "        table = tabula.read_pdf(file, pages = page_no, area = area, columns = col_div, pandas_options={'header': None}, lattice=lattice, stream=stream)[0]\n",
    "    except Exception as e:\n",
    "        status = \"failed reading pdf using tabula-py\"\n",
    "        logging.exception(f'{e}: {status}')\n",
    "        raise Exception(status)\n",
    "    filename = os.path.split(file)[1].split('.')[0]\n",
    "    logging.info(f\"filename acquired: {filename}\")\n",
    "    if replaceDict:\n",
    "        for present_ele, new_ele in replaceDict.items():\n",
    "            table = table.apply(lambda col: col.astype(str).str.replace(present_ele, new_ele))\n",
    "            logging.info(\"Values manipulated by replace method\")\n",
    "    else:\n",
    "        logging.info('No manipulation by replace method')\n",
    "    if splitDict:\n",
    "        for column_num, condition in splitDict.items():\n",
    "            split_ele, position = condition\n",
    "            table.iloc[:, column_num] = table.iloc[:, column_num].astype(str).str.split(split_ele).apply(lambda x: x[position])\n",
    "            logging.info(f\"Column {column_num} values got truncated.\")\n",
    "    else:\n",
    "        logging.info('no spliting of values operation made.')\n",
    "    outFile = os.path.join(outPath, f'{filename}_{page_no}.csv')\n",
    "    table.to_csv(outFile)\n",
    "    logging.info(f'table saved to file {outFile}')"
   ]
  },
  {
   "cell_type": "code",
   "execution_count": 24,
   "id": "c2fae21f-14fe-4d49-9141-d4a19b5c7e16",
   "metadata": {},
   "outputs": [],
   "source": [
    "def loop_pages(file, pages, count=1, totalFiles=1):\n",
    "    if pages:\n",
    "        totalpages = len(pages)\n",
    "    else:\n",
    "        try:\n",
    "            with open (file, \"rb\") as f:\n",
    "                pdf = pdf2.PdfFileReader(f)\n",
    "                totalpages = pdf.numPages\n",
    "            pages = range(1,totalpages+1)\n",
    "        except Exception as e:\n",
    "            status = \"failed reading total number of pages using PyPDF2.\"\n",
    "            logging.exception(f'{e}: {status}')\n",
    "            raise Exception(status)\n",
    "    pg_count = 1\n",
    "    for page_no in pages:\n",
    "        logging.info(f'Started Page: {page_no}')\n",
    "        extraction(file,page_no)\n",
    "        progress = pg_count/totalpages\n",
    "        block = int(round(10*progress))\n",
    "        progress_text = \"\\r{0}: [{1}] {2} {3:06.2f}%\".format(\"Pages\", \"#\"*block + \"-\"*(10-block), 'Files:', (count/totalFiles)*100)\n",
    "        sys.stdout.write(progress_text)\n",
    "        sys.stdout.flush()\n",
    "        pg_count += 1"
   ]
  },
  {
   "cell_type": "code",
   "execution_count": 25,
   "id": "2799a650-d52e-485f-908b-77241cebe9d0",
   "metadata": {},
   "outputs": [
    {
     "name": "stdout",
     "output_type": "stream",
     "text": [
      "Output files saved at C:\\Users\\atree\\Desktop\\pdfTable2csv\n",
      "Pages: [##########] Files: 100.00%"
     ]
    }
   ],
   "source": [
    "print(f'Output files saved at {outPath}')\n",
    "if os.path.splitext(path)[1]:\n",
    "    logging.info(f'Single PDF file: {path}')\n",
    "    loop_pages(path, pages)\n",
    "else:\n",
    "    logging.info(f'Directory Provided: {path}')\n",
    "    for _, _, files in os.walk(path):\n",
    "        totalFiles = len(files)\n",
    "        count=1\n",
    "        for file in files:\n",
    "            if os.path.splitext(file)[1] == '.pdf':\n",
    "                logging.info(f'Started: {file}')\n",
    "                loop_pages(os.path.join(path, file), pages, count, totalFiles)\n",
    "            count+=1"
   ]
  },
  {
   "cell_type": "code",
   "execution_count": null,
   "id": "6faac6b9-43f5-4a41-a988-c42a0d9d60dc",
   "metadata": {},
   "outputs": [],
   "source": []
  }
 ],
 "metadata": {
  "kernelspec": {
   "display_name": "Python 3 (ipykernel)",
   "language": "python",
   "name": "python3"
  },
  "language_info": {
   "codemirror_mode": {
    "name": "ipython",
    "version": 3
   },
   "file_extension": ".py",
   "mimetype": "text/x-python",
   "name": "python",
   "nbconvert_exporter": "python",
   "pygments_lexer": "ipython3",
   "version": "3.7.13"
  }
 },
 "nbformat": 4,
 "nbformat_minor": 5
}
