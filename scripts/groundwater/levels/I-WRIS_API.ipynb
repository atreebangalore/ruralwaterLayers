{
 "cells": [
  {
   "cell_type": "markdown",
   "metadata": {},
   "source": [
    "# Imports & Functions"
   ]
  },
  {
   "cell_type": "code",
   "execution_count": 138,
   "metadata": {},
   "outputs": [],
   "source": [
    "import requests\n",
    "import json\n",
    "from urllib.parse import urlencode\n",
    "import pandas as pd\n",
    "import numpy as np\n",
    "import matplotlib.pyplot as plt"
   ]
  },
  {
   "cell_type": "code",
   "execution_count": 22,
   "metadata": {},
   "outputs": [],
   "source": [
    "def fetch_data(url, headers):\n",
    "    response = requests.get(url, headers=headers)\n",
    "    return response.json() if response.status_code == 200 else None"
   ]
  },
  {
   "cell_type": "code",
   "execution_count": 23,
   "metadata": {},
   "outputs": [],
   "source": [
    "def encode_url(base_url, params):\n",
    "    query_string = urlencode(params)\n",
    "    return f\"{base_url}?{query_string}\""
   ]
  },
  {
   "cell_type": "code",
   "execution_count": 24,
   "metadata": {},
   "outputs": [],
   "source": [
    "def fetch_data_post(url, headers, data):\n",
    "    response = requests.post(url, headers=headers, json=data, verify=False)\n",
    "    return response.json() if response.status_code == 200 else None"
   ]
  },
  {
   "cell_type": "markdown",
   "metadata": {},
   "source": [
    "# GW Level Station Locations"
   ]
  },
  {
   "cell_type": "code",
   "execution_count": 40,
   "metadata": {},
   "outputs": [],
   "source": [
    "url = 'https://arc.indiawris.gov.in/server/rest/services/NWIC/GroundwaterLevel_Stations/MapServer/0/query'"
   ]
  },
  {
   "cell_type": "code",
   "execution_count": 41,
   "metadata": {},
   "outputs": [],
   "source": [
    "payload = {\n",
    "    \"where\": \"agency_name='CGWB'AND state_code ='AS'\",\n",
    "    # \"geometry\": '{\"spatialReference\":{\"latestWkid\":3857,\"wkid\":102100},\"xmin\":10057889.929871026,\"ymin\":3052589.161598988,\"xmax\":10097025.688353024,\"ymax\":3091724.920080986}',\n",
    "    # \"geometryType\": \"esriGeometryEnvelope\",\n",
    "    # \"spatialRel\": \"esriSpatialRelIntersects\",\n",
    "    # \"units\": \"esriSRUnit_Foot\",\n",
    "    # \"inSR\": 102100,\n",
    "    \"outFields\": \"*\",\n",
    "    \"returnGeometry\": True,\n",
    "    \"returnTrueCurves\": False,\n",
    "    \"outSR\": 4326,\n",
    "    \"returnIdsOnly\": False,\n",
    "    \"returnCountOnly\": False,\n",
    "    \"orderByFields\": \"objectid ASC\",\n",
    "    \"returnZ\": False,\n",
    "    \"returnM\": False,\n",
    "    \"returnDistinctValues\": False,\n",
    "    # \"quantizationParameters\": '{\"extent\":{\"spatialReference\":{\"latestWkid\":3857,\"wkid\":102100},\"xmin\":10057889.929871026,\"ymin\":3052589.161598988,\"xmax\":10097025.688353024,\"ymax\":3091724.920080986},\"mode\":\"view\",\"originPosition\":\"upperLeft\",\"tolerance\":76.43702828515632}',\n",
    "    \"featureEncoding\": \"esriDefault\",\n",
    "    \"f\": \"geojson\"\n",
    "}"
   ]
  },
  {
   "cell_type": "code",
   "execution_count": 42,
   "metadata": {},
   "outputs": [],
   "source": [
    "encoded_url = encode_url(url, payload)"
   ]
  },
  {
   "cell_type": "code",
   "execution_count": null,
   "metadata": {},
   "outputs": [],
   "source": [
    "response = fetch_data(encoded_url, headers={'Content-Type': 'application/json'})\n",
    "print(json.dumps(response, indent=2))"
   ]
  },
  {
   "cell_type": "markdown",
   "metadata": {},
   "source": [
    "# GW Level Data Download"
   ]
  },
  {
   "cell_type": "code",
   "execution_count": 41,
   "metadata": {},
   "outputs": [],
   "source": [
    "url = 'https://indiawris.gov.in/gwldnlddata'"
   ]
  },
  {
   "cell_type": "code",
   "execution_count": 42,
   "metadata": {},
   "outputs": [],
   "source": [
    "payload = {\"stnVal\":{\n",
    "    \"Agency_name\":\"CGWB\",\n",
    "    \"Child\":\"All\",\n",
    "    # \"Name\": \"Balakumaran\",\n",
    "    # \"Email\": \"balakumaran.ramachandran@ifmr.ac.in\",\n",
    "    \"Startdate\": \"2023-01-01\",\n",
    "    \"Enddate\": \"2023-12-31\",\n",
    "    \"Parent\": \"\\\"'Assam'\\\"\",\n",
    "    \"Reporttype\": \"GWL data\",\n",
    "    \"Station\": \"All\",\n",
    "    \"Timestep\": \"Daily\",\n",
    "    \"View\": \"Admin\",\n",
    "    \"file_name\": \"Sample\"#\"Balakumaran\"\n",
    "}}"
   ]
  },
  {
   "cell_type": "code",
   "execution_count": null,
   "metadata": {},
   "outputs": [],
   "source": [
    "response = fetch_data_post(url, headers={'Content-Type': 'application/json'}, data=payload)\n",
    "print(json.dumps(response, indent=2))"
   ]
  },
  {
   "cell_type": "code",
   "execution_count": 45,
   "metadata": {},
   "outputs": [
    {
     "name": "stdout",
     "output_type": "stream",
     "text": [
      "dict_keys(['District', 'Telemetry', 'Agency_name', 'State', 'Station_name', 'Data'])\n"
     ]
    }
   ],
   "source": [
    "print(response[0].keys())"
   ]
  },
  {
   "cell_type": "markdown",
   "metadata": {},
   "source": [
    "# Groundwater Level Map"
   ]
  },
  {
   "cell_type": "code",
   "execution_count": 83,
   "metadata": {},
   "outputs": [],
   "source": [
    "url = 'https://arc.indiawris.gov.in/server/rest/services/del/Ground_Water_Level/GPServer/Ground%20Water%20Level/submitJob?'"
   ]
  },
  {
   "cell_type": "code",
   "execution_count": 84,
   "metadata": {},
   "outputs": [],
   "source": [
    "payload = 'query=Startdate = 2023-05 AND Enddate = 2024-05 AND Timestep = Monthly AND Agency_name = null&f=json'"
   ]
  },
  {
   "cell_type": "code",
   "execution_count": 85,
   "metadata": {},
   "outputs": [
    {
     "name": "stdout",
     "output_type": "stream",
     "text": [
      "https://arc.indiawris.gov.in/server/rest/services/del/Ground_Water_Level/GPServer/Ground%20Water%20Level/submitJob?query=Startdate = 2023-05 AND Enddate = 2024-05 AND Timestep = Monthly AND Agency_name = null&f=json\n"
     ]
    }
   ],
   "source": [
    "encoded_url = url+payload\n",
    "print(encoded_url)"
   ]
  },
  {
   "cell_type": "code",
   "execution_count": 86,
   "metadata": {},
   "outputs": [
    {
     "name": "stdout",
     "output_type": "stream",
     "text": [
      "{\n",
      "  \"jobId\": \"j7cc0a2f101f64b7ab1b7c2dab3b6621d\",\n",
      "  \"jobStatus\": \"esriJobSubmitted\"\n",
      "}\n"
     ]
    }
   ],
   "source": [
    "response = fetch_data(encoded_url, headers={'Content-Type': 'application/json'})\n",
    "print(json.dumps(response, indent=2))"
   ]
  },
  {
   "cell_type": "code",
   "execution_count": 87,
   "metadata": {},
   "outputs": [],
   "source": [
    "jobid = response['jobId']"
   ]
  },
  {
   "cell_type": "code",
   "execution_count": 91,
   "metadata": {},
   "outputs": [
    {
     "name": "stdout",
     "output_type": "stream",
     "text": [
      "https://arc.indiawris.gov.in/server/rest/services/del/Ground_Water_Level/GPServer/Ground%20Water%20Level/jobs/j7cc0a2f101f64b7ab1b7c2dab3b6621d/results/Depth_To_Water_Level_m_bgl_\n"
     ]
    }
   ],
   "source": [
    "fail_url = f'https://arc.indiawris.gov.in/server/rest/services/del/Ground_Water_Level/GPServer/Ground%20Water%20Level/jobs/{jobid}/results/Depth_To_Water_Level_m_bgl_'\n",
    "print(fail_url)"
   ]
  },
  {
   "cell_type": "code",
   "execution_count": null,
   "metadata": {},
   "outputs": [],
   "source": [
    "fail_response = fetch_data(fail_url, headers={'Content-Type': 'application/json'})\n",
    "print(fail_response)\n",
    "# print(json.dumps(fail_response, indent=2))"
   ]
  },
  {
   "cell_type": "code",
   "execution_count": 79,
   "metadata": {},
   "outputs": [],
   "source": [
    "result_url = f'https://arc.indiawris.gov.in/server/rest/services/del/Ground_Water_Level/MapServer/jobs/{jobid}?f=json'"
   ]
  },
  {
   "cell_type": "code",
   "execution_count": null,
   "metadata": {},
   "outputs": [],
   "source": [
    "response = fetch_data(result_url, headers={'Content-Type': 'application/json'})\n",
    "print(json.dumps(response, indent=2))"
   ]
  },
  {
   "cell_type": "code",
   "execution_count": 81,
   "metadata": {},
   "outputs": [],
   "source": [
    "legend_url = f'https://arc.indiawris.gov.in/server/rest/services/del/Ground_Water_Level/MapServer/jobs/{jobid}/legend?f=json'"
   ]
  },
  {
   "cell_type": "code",
   "execution_count": null,
   "metadata": {},
   "outputs": [],
   "source": [
    "response = fetch_data(legend_url, headers={'Content-Type': 'application/json'})\n",
    "print(json.dumps(response, indent=2))"
   ]
  },
  {
   "cell_type": "markdown",
   "metadata": {},
   "source": [
    "# Jaltol UseCase"
   ]
  },
  {
   "cell_type": "markdown",
   "metadata": {},
   "source": [
    "#### Code"
   ]
  },
  {
   "cell_type": "code",
   "execution_count": 1,
   "metadata": {},
   "outputs": [],
   "source": [
    "import ee\n",
    "ee.Initialize()"
   ]
  },
  {
   "cell_type": "code",
   "execution_count": 68,
   "metadata": {},
   "outputs": [],
   "source": [
    "shrug = ee.FeatureCollection('users/jaltolwelllabs/SHRUG/Jharkhand')"
   ]
  },
  {
   "cell_type": "code",
   "execution_count": 69,
   "metadata": {},
   "outputs": [],
   "source": [
    "roi = shrug.filter(ee.Filter.And(\n",
    "    ee.Filter.eq('district_n', 'saraikela kharsawan'),\n",
    "    ee.Filter.eq('subdistric', 'gobindpur rajnagar'),\n",
    "    ee.Filter.eq('village_na', 'namibera')\n",
    "))"
   ]
  },
  {
   "cell_type": "code",
   "execution_count": 70,
   "metadata": {},
   "outputs": [],
   "source": [
    "buffer = roi.geometry().buffer(10000)"
   ]
  },
  {
   "cell_type": "code",
   "execution_count": 71,
   "metadata": {},
   "outputs": [],
   "source": [
    "coordinates = buffer.getInfo()['coordinates'][0]"
   ]
  },
  {
   "cell_type": "code",
   "execution_count": 72,
   "metadata": {},
   "outputs": [],
   "source": [
    "long, lat = zip(*coordinates)"
   ]
  },
  {
   "cell_type": "code",
   "execution_count": null,
   "metadata": {},
   "outputs": [],
   "source": [
    "print(long)\n",
    "print(lat)"
   ]
  },
  {
   "cell_type": "code",
   "execution_count": 74,
   "metadata": {},
   "outputs": [
    {
     "name": "stdout",
     "output_type": "stream",
     "text": [
      "85.89061599426405 86.09953322965734\n",
      "22.54299539938464 22.73746447907452\n"
     ]
    }
   ],
   "source": [
    "min_long = min(long)\n",
    "max_long = max(long)\n",
    "min_lat = min(lat)\n",
    "max_lat = max(lat)\n",
    "print(min_long, max_long)\n",
    "print(min_lat, max_lat)"
   ]
  },
  {
   "cell_type": "code",
   "execution_count": 75,
   "metadata": {},
   "outputs": [],
   "source": [
    "# location of GWL station\n",
    "url = 'https://arc.indiawris.gov.in/server/rest/services/NWIC/GroundwaterLevel_Stations/MapServer/0/query'"
   ]
  },
  {
   "cell_type": "code",
   "execution_count": 76,
   "metadata": {},
   "outputs": [],
   "source": [
    "payload = {\n",
    "    \"where\": \"agency_name='CGWB'\",#AND state_code ='AS'\",\n",
    "    \"geometry\": '{\"spatialReference\":{\"latestWkid\":4326,\"wkid\":4326},\"xmin\":'+str(min_long)+',\"ymin\":'+str(min_lat)+',\"xmax\":'+str(max_long)+',\"ymax\":'+str(max_lat)+'}',\n",
    "    \"geometryType\": \"esriGeometryEnvelope\",\n",
    "    \"spatialRel\": \"esriSpatialRelIntersects\",\n",
    "    \"units\": \"esriSRUnit_Foot\",\n",
    "    \"inSR\": 4326,\n",
    "    \"outFields\": \"*\",\n",
    "    \"returnGeometry\": True,\n",
    "    \"returnTrueCurves\": False,\n",
    "    \"outSR\": 4326,\n",
    "    \"returnIdsOnly\": False,\n",
    "    \"returnCountOnly\": False,\n",
    "    \"orderByFields\": \"objectid ASC\",\n",
    "    \"returnZ\": False,\n",
    "    \"returnM\": False,\n",
    "    \"returnDistinctValues\": False,\n",
    "    # \"quantizationParameters\": '{\"extent\":{\"spatialReference\":{\"latestWkid\":3857,\"wkid\":102100},\"xmin\":10057889.929871026,\"ymin\":3052589.161598988,\"xmax\":10097025.688353024,\"ymax\":3091724.920080986},\"mode\":\"view\",\"originPosition\":\"upperLeft\",\"tolerance\":76.43702828515632}',\n",
    "    \"featureEncoding\": \"esriDefault\",\n",
    "    \"f\": \"geojson\"\n",
    "}"
   ]
  },
  {
   "cell_type": "code",
   "execution_count": null,
   "metadata": {},
   "outputs": [],
   "source": [
    "encoded_url = encode_url(url, payload)\n",
    "response = fetch_data(encoded_url, headers={'Content-Type': 'application/json'})\n",
    "print(json.dumps(response, indent=2))"
   ]
  },
  {
   "cell_type": "code",
   "execution_count": 78,
   "metadata": {},
   "outputs": [
    {
     "name": "stdout",
     "output_type": "stream",
     "text": [
      "{'Rajnagar': ([85.92500000012274, 22.58333333016244], 'Jharkhand'), 'Nabibera': ([86.00055555953912, 22.644444439711954], 'Jharkhand'), 'Saraikela': ([85.92083333034664, 22.70416666986437], 'Jharkhand')}\n"
     ]
    }
   ],
   "source": [
    "stations = {feat['properties']['station_name']:(feat['geometry']['coordinates'],feat['properties']['state_name']) for feat in response['features']}\n",
    "print(stations)"
   ]
  },
  {
   "cell_type": "code",
   "execution_count": null,
   "metadata": {},
   "outputs": [],
   "source": [
    "roi_centroid = roi.geometry().centroid().getInfo()['coordinates']\n",
    "print(roi_centroid)"
   ]
  },
  {
   "cell_type": "code",
   "execution_count": 80,
   "metadata": {},
   "outputs": [],
   "source": [
    "def distance(coord1, coord2):\n",
    "    from math import radians, sin, cos, sqrt, atan2\n",
    "    lat1, lon1 = coord1\n",
    "    lat2, lon2 = coord2\n",
    "\n",
    "    R = 6371.0  # Radius of the Earth in kilometers\n",
    "\n",
    "    dlat = radians(lat2 - lat1)\n",
    "    dlon = radians(lon2 - lon1)\n",
    "\n",
    "    a = sin(dlat / 2)**2 + cos(radians(lat1)) * cos(radians(lat2)) * sin(dlon / 2)**2\n",
    "    c = 2 * atan2(sqrt(a), sqrt(1 - a))\n",
    "\n",
    "    return R * c"
   ]
  },
  {
   "cell_type": "code",
   "execution_count": 124,
   "metadata": {},
   "outputs": [
    {
     "name": "stdout",
     "output_type": "stream",
     "text": [
      "Closest station: Nabibera at distance 0.5210582633704774 km\n"
     ]
    }
   ],
   "source": [
    "close_station = None\n",
    "for station, data in stations.items():\n",
    "    station_coord = data[0]\n",
    "    dist = distance(roi_centroid, station_coord)\n",
    "    if close_station is None or dist < close_station[1]:\n",
    "        close_station = (station, dist)\n",
    "print(f\"Closest station: {close_station[0]} at distance {close_station[1]} km\")"
   ]
  },
  {
   "cell_type": "code",
   "execution_count": 125,
   "metadata": {},
   "outputs": [],
   "source": [
    "url = 'https://indiawris.gov.in/gwldnlddata'\n",
    "def gen_payload(start_date, end_date, close_station):\n",
    "    payload = {\"stnVal\":{\n",
    "        \"Agency_name\":\"CGWB\",\n",
    "        \"Child\":\"All\",\n",
    "        \"Startdate\": start_date,\n",
    "        \"Enddate\": end_date,\n",
    "        \"Parent\": f\"\\\"'{close_station}'\\\"\",\n",
    "        \"Reporttype\": \"GWL data\",\n",
    "        \"Station\": \"All\",\n",
    "        \"Timestep\": \"Daily\",\n",
    "        \"View\": \"Admin\",\n",
    "        \"file_name\": \"Sample\"\n",
    "    }}\n",
    "    return payload"
   ]
  },
  {
   "cell_type": "code",
   "execution_count": 126,
   "metadata": {},
   "outputs": [],
   "source": [
    "filtered_dict = {'2022-23':[], '2021-22': [], '2020-21': [], '2019-20': [], '2018-19': [], '2017-18': []}"
   ]
  },
  {
   "cell_type": "code",
   "execution_count": 127,
   "metadata": {},
   "outputs": [
    {
     "name": "stderr",
     "output_type": "stream",
     "text": [
      "c:\\Users\\atree\\miniconda3\\envs\\jaltol\\lib\\site-packages\\urllib3\\connectionpool.py:1052: InsecureRequestWarning: Unverified HTTPS request is being made to host 'indiawris.gov.in'. Adding certificate verification is strongly advised. See: https://urllib3.readthedocs.io/en/1.26.x/advanced-usage.html#ssl-warnings\n",
      "  InsecureRequestWarning,\n"
     ]
    }
   ],
   "source": [
    "payload = gen_payload(\"2022-07-01\", \"2023-07-01\", stations[close_station[0]][1])\n",
    "response = fetch_data_post(url, headers={'Content-Type': 'application/json'}, data=payload)\n",
    "for entry in response:\n",
    "    if entry['Station_name'] == close_station[0]:\n",
    "        for data in entry['Data']:\n",
    "            filtered_dict['2022-23'].append(data['level'])"
   ]
  },
  {
   "cell_type": "code",
   "execution_count": 128,
   "metadata": {},
   "outputs": [
    {
     "name": "stderr",
     "output_type": "stream",
     "text": [
      "c:\\Users\\atree\\miniconda3\\envs\\jaltol\\lib\\site-packages\\urllib3\\connectionpool.py:1052: InsecureRequestWarning: Unverified HTTPS request is being made to host 'indiawris.gov.in'. Adding certificate verification is strongly advised. See: https://urllib3.readthedocs.io/en/1.26.x/advanced-usage.html#ssl-warnings\n",
      "  InsecureRequestWarning,\n"
     ]
    }
   ],
   "source": [
    "payload = gen_payload(\"2021-07-01\", \"2022-07-01\", stations[close_station[0]][1])\n",
    "response = fetch_data_post(url, headers={'Content-Type': 'application/json'}, data=payload)\n",
    "for entry in response:\n",
    "    if entry['Station_name'] == close_station[0]:\n",
    "        for data in entry['Data']:\n",
    "            filtered_dict['2021-22'].append(data['level'])"
   ]
  },
  {
   "cell_type": "code",
   "execution_count": 129,
   "metadata": {},
   "outputs": [
    {
     "name": "stderr",
     "output_type": "stream",
     "text": [
      "c:\\Users\\atree\\miniconda3\\envs\\jaltol\\lib\\site-packages\\urllib3\\connectionpool.py:1052: InsecureRequestWarning: Unverified HTTPS request is being made to host 'indiawris.gov.in'. Adding certificate verification is strongly advised. See: https://urllib3.readthedocs.io/en/1.26.x/advanced-usage.html#ssl-warnings\n",
      "  InsecureRequestWarning,\n"
     ]
    }
   ],
   "source": [
    "payload = gen_payload(\"2020-07-01\", \"2021-07-01\", stations[close_station[0]][1])\n",
    "response = fetch_data_post(url, headers={'Content-Type': 'application/json'}, data=payload)\n",
    "for entry in response:\n",
    "    if entry['Station_name'] == close_station[0]:\n",
    "        for data in entry['Data']:\n",
    "            filtered_dict['2020-21'].append(data['level'])"
   ]
  },
  {
   "cell_type": "code",
   "execution_count": 130,
   "metadata": {},
   "outputs": [
    {
     "name": "stderr",
     "output_type": "stream",
     "text": [
      "c:\\Users\\atree\\miniconda3\\envs\\jaltol\\lib\\site-packages\\urllib3\\connectionpool.py:1052: InsecureRequestWarning: Unverified HTTPS request is being made to host 'indiawris.gov.in'. Adding certificate verification is strongly advised. See: https://urllib3.readthedocs.io/en/1.26.x/advanced-usage.html#ssl-warnings\n",
      "  InsecureRequestWarning,\n"
     ]
    }
   ],
   "source": [
    "payload = gen_payload(\"2019-07-01\", \"2020-07-01\", stations[close_station[0]][1])\n",
    "response = fetch_data_post(url, headers={'Content-Type': 'application/json'}, data=payload)\n",
    "for entry in response:\n",
    "    if entry['Station_name'] == close_station[0]:\n",
    "        for data in entry['Data']:\n",
    "            filtered_dict['2019-20'].append(data['level'])"
   ]
  },
  {
   "cell_type": "code",
   "execution_count": 131,
   "metadata": {},
   "outputs": [
    {
     "name": "stderr",
     "output_type": "stream",
     "text": [
      "c:\\Users\\atree\\miniconda3\\envs\\jaltol\\lib\\site-packages\\urllib3\\connectionpool.py:1052: InsecureRequestWarning: Unverified HTTPS request is being made to host 'indiawris.gov.in'. Adding certificate verification is strongly advised. See: https://urllib3.readthedocs.io/en/1.26.x/advanced-usage.html#ssl-warnings\n",
      "  InsecureRequestWarning,\n"
     ]
    }
   ],
   "source": [
    "payload = gen_payload(\"2018-07-01\", \"2019-07-01\", stations[close_station[0]][1])\n",
    "response = fetch_data_post(url, headers={'Content-Type': 'application/json'}, data=payload)\n",
    "for entry in response:\n",
    "    if entry['Station_name'] == close_station[0]:\n",
    "        for data in entry['Data']:\n",
    "            filtered_dict['2018-19'].append(data['level'])"
   ]
  },
  {
   "cell_type": "code",
   "execution_count": 132,
   "metadata": {},
   "outputs": [
    {
     "name": "stderr",
     "output_type": "stream",
     "text": [
      "c:\\Users\\atree\\miniconda3\\envs\\jaltol\\lib\\site-packages\\urllib3\\connectionpool.py:1052: InsecureRequestWarning: Unverified HTTPS request is being made to host 'indiawris.gov.in'. Adding certificate verification is strongly advised. See: https://urllib3.readthedocs.io/en/1.26.x/advanced-usage.html#ssl-warnings\n",
      "  InsecureRequestWarning,\n"
     ]
    }
   ],
   "source": [
    "payload = gen_payload(\"2017-07-01\", \"2018-07-01\", stations[close_station[0]][1])\n",
    "response = fetch_data_post(url, headers={'Content-Type': 'application/json'}, data=payload)\n",
    "for entry in response:\n",
    "    if entry['Station_name'] == close_station[0]:\n",
    "        for data in entry['Data']:\n",
    "            filtered_dict['2017-18'].append(data['level'])"
   ]
  },
  {
   "cell_type": "code",
   "execution_count": 136,
   "metadata": {},
   "outputs": [
    {
     "name": "stdout",
     "output_type": "stream",
     "text": [
      "{'2022-23': [2.8, 6.1], '2021-22': [], '2020-21': [1.9, 9.9], '2019-20': [], '2018-19': [7.35, 8.0, 6.48], '2017-18': [7.65, 10.35, 10.35]}\n"
     ]
    }
   ],
   "source": [
    "print(filtered_dict)"
   ]
  },
  {
   "cell_type": "code",
   "execution_count": 135,
   "metadata": {},
   "outputs": [
    {
     "name": "stdout",
     "output_type": "stream",
     "text": [
      "{'2022-23': {'min': 2.8, 'max': 6.1}, '2021-22': {'min': None, 'max': None}, '2020-21': {'min': 1.9, 'max': 9.9}, '2019-20': {'min': None, 'max': None}, '2018-19': {'min': 6.48, 'max': 8.0}, '2017-18': {'min': 7.65, 'max': 10.35}}\n"
     ]
    }
   ],
   "source": [
    "final_out = {k:{'min':min(v,default=None), 'max':max(v,default=None)} for k,v in filtered_dict.items()}\n",
    "print(final_out)"
   ]
  },
  {
   "cell_type": "code",
   "execution_count": 139,
   "metadata": {},
   "outputs": [],
   "source": [
    "def plot_inverted_stacked_chart(final_out):\n",
    "    # Extract years and values\n",
    "    years = list(final_out.keys())\n",
    "    min_values = [final_out[year]['min'] if final_out[year]['min'] is not None else 0 for year in years]\n",
    "    max_values = [final_out[year]['max'] if final_out[year]['max'] is not None else 0 for year in years]\n",
    "    \n",
    "    # Compute the height of the bars (difference between max and min)\n",
    "    bar_heights = [max_val - min_val if max_val and min_val else 0 for min_val, max_val in zip(min_values, max_values)]\n",
    "    \n",
    "    # Reverse data order to start from 2017\n",
    "    years.reverse()\n",
    "    min_values.reverse()\n",
    "    max_values.reverse()\n",
    "    bar_heights.reverse()\n",
    "\n",
    "    # Plot\n",
    "    fig, ax = plt.subplots(figsize=(8, 6))\n",
    "    x_positions = np.arange(len(years))\n",
    "\n",
    "    # Plot stacked bars upside-down\n",
    "    ax.bar(x_positions, bar_heights, bottom=min_values, color='steelblue', label=\"Range (Max - Min)\")\n",
    "    ax.bar(x_positions, min_values, color='lightgray', label=\"Min Value\")\n",
    "\n",
    "    # Labels and formatting\n",
    "    ax.set_xticks(x_positions)\n",
    "    ax.set_xticklabels(years, rotation=45, ha='right')\n",
    "    ax.set_ylabel(\"Value\")\n",
    "    ax.set_xlabel(\"Year\")\n",
    "    ax.set_title(\"Upside-Down Stacked Bar Chart (Starting from 2017)\")\n",
    "    ax.legend()\n",
    "    ax.invert_yaxis()  # Invert to make bars appear upside down\n",
    "\n",
    "    # Show plot\n",
    "    plt.show()"
   ]
  },
  {
   "cell_type": "markdown",
   "metadata": {},
   "source": [
    "#### Result"
   ]
  },
  {
   "cell_type": "markdown",
   "metadata": {},
   "source": [
    "Steps:\n",
    "- we get the village boundary (function already in jaltol)\n",
    "- Jharkhand -> saraikela kharsawan -> gobindpur rajnagar -> namibera\n",
    "- Create a Buffer for 10Km\n",
    "- get the min & max values of both lat & long of the buffer for bbox param in API call\n",
    "- Call the GWL Stations Location API to get the lat-long of stations inside the bbox of buffer\n",
    "- Find the station closest to the Village (least distance bw lat-long of village centroid & station)\n",
    "- Call the GWL Data API for the closest station's state for different hydrological years\n",
    "- filter the station name in downloaded json with the closest station's name\n",
    "- grab all the level data values available for each year as dict\n",
    "- get the min and max level values for each year and plot them"
   ]
  },
  {
   "cell_type": "code",
   "execution_count": 140,
   "metadata": {},
   "outputs": [
    {
     "data": {
      "image/png": "[encoded data removed]",
      "text/plain": [
       "<Figure size 576x432 with 1 Axes>"
      ]
     },
     "metadata": {
      "needs_background": "light"
     },
     "output_type": "display_data"
    }
   ],
   "source": [
    "plot_inverted_stacked_chart(final_out)"
   ]
  },
  {
   "cell_type": "code",
   "execution_count": null,
   "metadata": {},
   "outputs": [],
   "source": []
  }
 ],
 "metadata": {
  "kernelspec": {
   "display_name": "jaltol",
   "language": "python",
   "name": "python3"
  },
  "language_info": {
   "codemirror_mode": {
    "name": "ipython",
    "version": 3
   },
   "file_extension": ".py",
   "mimetype": "text/x-python",
   "name": "python",
   "nbconvert_exporter": "python",
   "pygments_lexer": "ipython3",
   "version": "3.7.13"
  }
 },
 "nbformat": 4,
 "nbformat_minor": 2
}
