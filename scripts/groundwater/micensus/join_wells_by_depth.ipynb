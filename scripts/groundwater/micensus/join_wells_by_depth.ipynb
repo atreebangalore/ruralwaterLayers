{
 "cells": [
  {
   "cell_type": "code",
   "execution_count": 1,
   "id": "fdd678d3",
   "metadata": {},
   "outputs": [
    {
     "name": "stdout",
     "output_type": "stream",
     "text": [
      "data saved in : C:\\Users\\Craig D\\Code\\atree\\outputs\\groundwater\\micensus\n"
     ]
    }
   ],
   "source": [
    "from pathlib import Path\n",
    "import sys\n",
    "import pandas as pd\n",
    "import numpy as np\n",
    "\n",
    "root = Path.home() # find project root\n",
    "sys.path.append(str(root))    # this allows lib and config modules below to be found\n",
    "opPath = root.joinpath(\"Code\",\"atree\",\"outputs\",\"groundwater\",\"micensus\")\n",
    "print(\"data saved in :\",opPath)"
   ]
  },
  {
   "cell_type": "code",
   "execution_count": 7,
   "id": "29e25090",
   "metadata": {},
   "outputs": [
    {
     "name": "stdout",
     "output_type": "stream",
     "text": [
      "                State District         Block         Village  <20m  20-40m  \\\n",
      "0  ANDAMAN & NICOBARS  NICOBAR  CAMPBELL BAY    Govind Nagar     7       0   \n",
      "1  ANDAMAN & NICOBARS  NICOBAR  CAMPBELL BAY  Joginder Nagar     8       0   \n",
      "2  ANDAMAN & NICOBARS  NICOBAR  CAMPBELL BAY   Sashtri Nagar     5       0   \n",
      "3  ANDAMAN & NICOBARS  NICOBAR   CAR NICOBAR      Big Lapati     9       0   \n",
      "4  ANDAMAN & NICOBARS  NICOBAR   CAR NICOBAR     Chuckchucha    19       0   \n",
      "\n",
      "   40-60m  60-70m  >70m  \n",
      "0       0       0     0  \n",
      "1       0       0     0  \n",
      "2       0       0     0  \n",
      "3       0       0     0  \n",
      "4       0       0     0  \n"
     ]
    }
   ],
   "source": [
    "micensus_path = root.joinpath(\"Data\",\"micensus\",\"2013-14\",\"mi_census5_13-14_Depth_Dugwells.csv\")\n",
    "column_names = [\"State\",\"District\",\"Block\",\"Village\",\"<20m\",\"20-40m\",\"40-60m\",\"60-70m\",\">70m\"]\n",
    "mic = pd.read_csv(micensus_path,names=column_names,skiprows=1)\n",
    "print(mic.head())"
   ]
  },
  {
   "cell_type": "code",
   "execution_count": 8,
   "id": "176e0113",
   "metadata": {},
   "outputs": [
    {
     "data": {
      "text/plain": [
       "(226052, 9)"
      ]
     },
     "execution_count": 8,
     "metadata": {},
     "output_type": "execute_result"
    }
   ],
   "source": [
    "mic.shape"
   ]
  },
  {
   "cell_type": "code",
   "execution_count": null,
   "id": "6f172e6e",
   "metadata": {},
   "outputs": [],
   "source": []
  }
 ],
 "metadata": {
  "kernelspec": {
   "display_name": "Python 3",
   "language": "python",
   "name": "python3"
  },
  "language_info": {
   "codemirror_mode": {
    "name": "ipython",
    "version": 3
   },
   "file_extension": ".py",
   "mimetype": "text/x-python",
   "name": "python",
   "nbconvert_exporter": "python",
   "pygments_lexer": "ipython3",
   "version": "3.7.10"
  }
 },
 "nbformat": 4,
 "nbformat_minor": 5
}
